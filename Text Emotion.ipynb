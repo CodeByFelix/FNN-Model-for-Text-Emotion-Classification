{
 "cells": [
  {
   "cell_type": "code",
   "execution_count": 1,
   "id": "db7a9ad1-f4f9-4e8d-b451-2e05d62762a8",
   "metadata": {},
   "outputs": [],
   "source": [
    "import pandas as pd\n",
    "import numpy as np\n",
    "import seaborn as sns\n",
    "import matplotlib.pyplot as plt\n",
    "from nltk.corpus import stopwords\n",
    "from nltk.stem.porter import PorterStemmer\n",
    "import re\n",
    "\n"
   ]
  },
  {
   "cell_type": "code",
   "execution_count": 1,
   "id": "7bad6cd1-34a4-460d-a94d-0612c26e3c27",
   "metadata": {},
   "outputs": [
    {
     "data": {
      "text/plain": [
       "'2.18.0'"
      ]
     },
     "execution_count": 1,
     "metadata": {},
     "output_type": "execute_result"
    }
   ],
   "source": [
    "import tensorflow as tf\n",
    "\n",
    "tf.__version__"
   ]
  },
  {
   "cell_type": "code",
   "execution_count": 2,
   "id": "f0aaf04b-9514-4ddc-84fd-524e9030cae4",
   "metadata": {},
   "outputs": [],
   "source": [
    "train = pd.read_table ('train.txt', delimiter=';', header=None)\n",
    "val = pd.read_table ('val.txt', delimiter=';', header=None)\n",
    "test = pd.read_table ('train.txt', delimiter=';', header=None)"
   ]
  },
  {
   "cell_type": "code",
   "execution_count": 3,
   "id": "fe9d57f5-1b8c-46a4-8b17-0c69a12e6fb9",
   "metadata": {},
   "outputs": [
    {
     "data": {
      "text/html": [
       "<div>\n",
       "<style scoped>\n",
       "    .dataframe tbody tr th:only-of-type {\n",
       "        vertical-align: middle;\n",
       "    }\n",
       "\n",
       "    .dataframe tbody tr th {\n",
       "        vertical-align: top;\n",
       "    }\n",
       "\n",
       "    .dataframe thead th {\n",
       "        text-align: right;\n",
       "    }\n",
       "</style>\n",
       "<table border=\"1\" class=\"dataframe\">\n",
       "  <thead>\n",
       "    <tr style=\"text-align: right;\">\n",
       "      <th></th>\n",
       "      <th>text</th>\n",
       "      <th>label</th>\n",
       "    </tr>\n",
       "  </thead>\n",
       "  <tbody>\n",
       "    <tr>\n",
       "      <th>0</th>\n",
       "      <td>i didnt feel humiliated</td>\n",
       "      <td>sadness</td>\n",
       "    </tr>\n",
       "    <tr>\n",
       "      <th>1</th>\n",
       "      <td>i can go from feeling so hopeless to so damned...</td>\n",
       "      <td>sadness</td>\n",
       "    </tr>\n",
       "    <tr>\n",
       "      <th>2</th>\n",
       "      <td>im grabbing a minute to post i feel greedy wrong</td>\n",
       "      <td>anger</td>\n",
       "    </tr>\n",
       "    <tr>\n",
       "      <th>3</th>\n",
       "      <td>i am ever feeling nostalgic about the fireplac...</td>\n",
       "      <td>love</td>\n",
       "    </tr>\n",
       "    <tr>\n",
       "      <th>4</th>\n",
       "      <td>i am feeling grouchy</td>\n",
       "      <td>anger</td>\n",
       "    </tr>\n",
       "  </tbody>\n",
       "</table>\n",
       "</div>"
      ],
      "text/plain": [
       "                                                text    label\n",
       "0                            i didnt feel humiliated  sadness\n",
       "1  i can go from feeling so hopeless to so damned...  sadness\n",
       "2   im grabbing a minute to post i feel greedy wrong    anger\n",
       "3  i am ever feeling nostalgic about the fireplac...     love\n",
       "4                               i am feeling grouchy    anger"
      ]
     },
     "execution_count": 3,
     "metadata": {},
     "output_type": "execute_result"
    }
   ],
   "source": [
    "df = pd.concat ([train, test, val])\n",
    "df.columns = ['text', 'label']\n",
    "df.reset_index(drop=True)\n",
    "df.head()"
   ]
  },
  {
   "cell_type": "code",
   "execution_count": 4,
   "id": "2456991f-94b0-440b-b11e-9afb3a2dd1ba",
   "metadata": {},
   "outputs": [
    {
     "data": {
      "text/plain": [
       "label\n",
       "joy         11428\n",
       "sadness      9882\n",
       "anger        4593\n",
       "fear         4086\n",
       "love         2786\n",
       "surprise     1225\n",
       "Name: count, dtype: int64"
      ]
     },
     "execution_count": 4,
     "metadata": {},
     "output_type": "execute_result"
    }
   ],
   "source": [
    "df['label'].value_counts()"
   ]
  },
  {
   "cell_type": "code",
   "execution_count": 5,
   "id": "14ca9ef9-e258-40ef-9893-c7ef211fd190",
   "metadata": {},
   "outputs": [
    {
     "data": {
      "text/plain": [
       "<Axes: xlabel='label', ylabel='count'>"
      ]
     },
     "execution_count": 5,
     "metadata": {},
     "output_type": "execute_result"
    },
    {
     "data": {
      "image/png": "[encoded data removed]",
      "text/plain": [
       "<Figure size 640x480 with 1 Axes>"
      ]
     },
     "metadata": {},
     "output_type": "display_data"
    }
   ],
   "source": [
    "sns.countplot (x='label', data=df)"
   ]
  },
  {
   "cell_type": "code",
   "execution_count": 6,
   "id": "ba6ca74f-6c05-4b5c-ac77-5f744933d650",
   "metadata": {},
   "outputs": [
    {
     "data": {
      "text/plain": [
       "0"
      ]
     },
     "execution_count": 6,
     "metadata": {},
     "output_type": "execute_result"
    }
   ],
   "source": [
    "df.isna().any(axis=1).sum()"
   ]
  },
  {
   "cell_type": "code",
   "execution_count": 7,
   "id": "a0e9fd9f-c3ac-4902-a6bf-1d5166422e34",
   "metadata": {},
   "outputs": [
    {
     "data": {
      "text/plain": [
       "'i can go from feeling so hopeless to so damned hopeful just from being around someone who cares and is awake'"
      ]
     },
     "execution_count": 7,
     "metadata": {},
     "output_type": "execute_result"
    }
   ],
   "source": [
    "tt = df['text'].iloc[1]\n",
    "tt"
   ]
  },
  {
   "cell_type": "code",
   "execution_count": 8,
   "id": "db5b2652-57f5-4dd4-8288-c2fbfb558126",
   "metadata": {},
   "outputs": [
    {
     "data": {
      "text/plain": [
       "['i',\n",
       " 'can',\n",
       " 'go',\n",
       " 'from',\n",
       " 'feeling',\n",
       " 'so',\n",
       " 'hopeless',\n",
       " 'to',\n",
       " 'so',\n",
       " 'damned',\n",
       " 'hopeful',\n",
       " 'just',\n",
       " 'from',\n",
       " 'being',\n",
       " 'around',\n",
       " 'someone',\n",
       " 'who',\n",
       " 'cares',\n",
       " 'and',\n",
       " 'is',\n",
       " 'awake']"
      ]
     },
     "execution_count": 8,
     "metadata": {},
     "output_type": "execute_result"
    }
   ],
   "source": [
    "ps = PorterStemmer()\n",
    "review = re.sub('[^a-zA-Z]', ' ', tt) #Remove all puntuations leave only characters.\n",
    "review = review.lower()\n",
    "review = review.split()\n",
    "review\n"
   ]
  },
  {
   "cell_type": "code",
   "execution_count": 9,
   "id": "bf0c5c12-326e-4fe2-a427-05d39098b6dd",
   "metadata": {},
   "outputs": [
    {
     "name": "stderr",
     "output_type": "stream",
     "text": [
      "[nltk_data] Downloading package stopwords to\n",
      "[nltk_data]     C:\\Users\\Felix\\AppData\\Roaming\\nltk_data...\n",
      "[nltk_data]   Package stopwords is already up-to-date!\n"
     ]
    },
    {
     "data": {
      "text/plain": [
       "True"
      ]
     },
     "execution_count": 9,
     "metadata": {},
     "output_type": "execute_result"
    }
   ],
   "source": [
    "import nltk\n",
    "nltk.download('stopwords')"
   ]
  },
  {
   "cell_type": "code",
   "execution_count": 10,
   "id": "479e6e80-67d5-42c3-aeeb-d2aa1407f143",
   "metadata": {},
   "outputs": [
    {
     "name": "stdout",
     "output_type": "stream",
     "text": [
      "['i', 'me', 'my', 'myself', 'we', 'our', 'ours', 'ourselves', 'you', \"you're\"]\n"
     ]
    }
   ],
   "source": [
    "print(stopwords.words('english')[:10])"
   ]
  },
  {
   "cell_type": "code",
   "execution_count": 11,
   "id": "fb9f2827-b952-4c72-bf13-7cc36a7ed793",
   "metadata": {},
   "outputs": [
    {
     "data": {
      "text/plain": [
       "['go', 'feel', 'hopeless', 'damn', 'hope', 'around', 'someon', 'care', 'awak']"
      ]
     },
     "execution_count": 11,
     "metadata": {},
     "output_type": "execute_result"
    }
   ],
   "source": [
    "review = [ps.stem(word) for word in review if not word in stopwords.words('english')]\n",
    "review"
   ]
  },
  {
   "cell_type": "markdown",
   "id": "8e02a993-4719-47f7-9b4a-3666a08e2c25",
   "metadata": {},
   "source": [
    "### Defining the function for preprocessing"
   ]
  },
  {
   "cell_type": "code",
   "execution_count": 12,
   "id": "a2fad9ae-9b5d-4adf-a18a-b6329ff207a1",
   "metadata": {},
   "outputs": [],
   "source": [
    "ps = PorterStemmer()\n",
    "\n",
    "def preprocess (line):\n",
    "    review = re.sub('[^a-zA-Z]', ' ', line) #Remove all puntuations leave only characters.\n",
    "    review = review.lower()\n",
    "    review = review.split()\n",
    "    review = [ps.stem(word) for word in review if not word in stopwords.words('english')]\n",
    "    return ' '.join(review)"
   ]
  },
  {
   "cell_type": "code",
   "execution_count": 13,
   "id": "d9b078f0-7d3c-4dd9-98ba-efa19036db33",
   "metadata": {},
   "outputs": [
    {
     "data": {
      "text/html": [
       "<div>\n",
       "<style scoped>\n",
       "    .dataframe tbody tr th:only-of-type {\n",
       "        vertical-align: middle;\n",
       "    }\n",
       "\n",
       "    .dataframe tbody tr th {\n",
       "        vertical-align: top;\n",
       "    }\n",
       "\n",
       "    .dataframe thead th {\n",
       "        text-align: right;\n",
       "    }\n",
       "</style>\n",
       "<table border=\"1\" class=\"dataframe\">\n",
       "  <thead>\n",
       "    <tr style=\"text-align: right;\">\n",
       "      <th></th>\n",
       "      <th>text</th>\n",
       "      <th>label</th>\n",
       "      <th>features</th>\n",
       "    </tr>\n",
       "  </thead>\n",
       "  <tbody>\n",
       "    <tr>\n",
       "      <th>0</th>\n",
       "      <td>i didnt feel humiliated</td>\n",
       "      <td>sadness</td>\n",
       "      <td>didnt feel humili</td>\n",
       "    </tr>\n",
       "    <tr>\n",
       "      <th>1</th>\n",
       "      <td>i can go from feeling so hopeless to so damned...</td>\n",
       "      <td>sadness</td>\n",
       "      <td>go feel hopeless damn hope around someon care ...</td>\n",
       "    </tr>\n",
       "    <tr>\n",
       "      <th>2</th>\n",
       "      <td>im grabbing a minute to post i feel greedy wrong</td>\n",
       "      <td>anger</td>\n",
       "      <td>im grab minut post feel greedi wrong</td>\n",
       "    </tr>\n",
       "    <tr>\n",
       "      <th>3</th>\n",
       "      <td>i am ever feeling nostalgic about the fireplac...</td>\n",
       "      <td>love</td>\n",
       "      <td>ever feel nostalg fireplac know still properti</td>\n",
       "    </tr>\n",
       "    <tr>\n",
       "      <th>4</th>\n",
       "      <td>i am feeling grouchy</td>\n",
       "      <td>anger</td>\n",
       "      <td>feel grouchi</td>\n",
       "    </tr>\n",
       "    <tr>\n",
       "      <th>...</th>\n",
       "      <td>...</td>\n",
       "      <td>...</td>\n",
       "      <td>...</td>\n",
       "    </tr>\n",
       "    <tr>\n",
       "      <th>1995</th>\n",
       "      <td>im having ssa examination tomorrow in the morn...</td>\n",
       "      <td>sadness</td>\n",
       "      <td>im ssa examin tomorrow morn im quit well prepa...</td>\n",
       "    </tr>\n",
       "    <tr>\n",
       "      <th>1996</th>\n",
       "      <td>i constantly worry about their fight against n...</td>\n",
       "      <td>joy</td>\n",
       "      <td>constantli worri fight natur push limit inner ...</td>\n",
       "    </tr>\n",
       "    <tr>\n",
       "      <th>1997</th>\n",
       "      <td>i feel its important to share this info for th...</td>\n",
       "      <td>joy</td>\n",
       "      <td>feel import share info experi thing</td>\n",
       "    </tr>\n",
       "    <tr>\n",
       "      <th>1998</th>\n",
       "      <td>i truly feel that if you are passionate enough...</td>\n",
       "      <td>joy</td>\n",
       "      <td>truli feel passion enough someth stay true suc...</td>\n",
       "    </tr>\n",
       "    <tr>\n",
       "      <th>1999</th>\n",
       "      <td>i feel like i just wanna buy any cute make up ...</td>\n",
       "      <td>joy</td>\n",
       "      <td>feel like wanna buy cute make see onlin even one</td>\n",
       "    </tr>\n",
       "  </tbody>\n",
       "</table>\n",
       "<p>34000 rows × 3 columns</p>\n",
       "</div>"
      ],
      "text/plain": [
       "                                                   text    label  \\\n",
       "0                               i didnt feel humiliated  sadness   \n",
       "1     i can go from feeling so hopeless to so damned...  sadness   \n",
       "2      im grabbing a minute to post i feel greedy wrong    anger   \n",
       "3     i am ever feeling nostalgic about the fireplac...     love   \n",
       "4                                  i am feeling grouchy    anger   \n",
       "...                                                 ...      ...   \n",
       "1995  im having ssa examination tomorrow in the morn...  sadness   \n",
       "1996  i constantly worry about their fight against n...      joy   \n",
       "1997  i feel its important to share this info for th...      joy   \n",
       "1998  i truly feel that if you are passionate enough...      joy   \n",
       "1999  i feel like i just wanna buy any cute make up ...      joy   \n",
       "\n",
       "                                               features  \n",
       "0                                     didnt feel humili  \n",
       "1     go feel hopeless damn hope around someon care ...  \n",
       "2                  im grab minut post feel greedi wrong  \n",
       "3        ever feel nostalg fireplac know still properti  \n",
       "4                                          feel grouchi  \n",
       "...                                                 ...  \n",
       "1995  im ssa examin tomorrow morn im quit well prepa...  \n",
       "1996  constantli worri fight natur push limit inner ...  \n",
       "1997                feel import share info experi thing  \n",
       "1998  truli feel passion enough someth stay true suc...  \n",
       "1999   feel like wanna buy cute make see onlin even one  \n",
       "\n",
       "[34000 rows x 3 columns]"
      ]
     },
     "execution_count": 13,
     "metadata": {},
     "output_type": "execute_result"
    }
   ],
   "source": [
    "df['features'] = df['text'].apply (lambda x: preprocess(x))\n",
    "df"
   ]
  },
  {
   "cell_type": "code",
   "execution_count": 14,
   "id": "b439f8e8-a6b5-4832-97e8-2ab788dd0200",
   "metadata": {},
   "outputs": [],
   "source": [
    "from sklearn import preprocessing\n",
    "label_encoder = preprocessing.LabelEncoder()\n",
    "df['N_label'] = label_encoder.fit_transform(df['label'])"
   ]
  },
  {
   "cell_type": "code",
   "execution_count": 15,
   "id": "20a72197-a3f7-467b-ae09-e13aad803178",
   "metadata": {},
   "outputs": [
    {
     "data": {
      "text/html": [
       "<div>\n",
       "<style scoped>\n",
       "    .dataframe tbody tr th:only-of-type {\n",
       "        vertical-align: middle;\n",
       "    }\n",
       "\n",
       "    .dataframe tbody tr th {\n",
       "        vertical-align: top;\n",
       "    }\n",
       "\n",
       "    .dataframe thead th {\n",
       "        text-align: right;\n",
       "    }\n",
       "</style>\n",
       "<table border=\"1\" class=\"dataframe\">\n",
       "  <thead>\n",
       "    <tr style=\"text-align: right;\">\n",
       "      <th></th>\n",
       "      <th>text</th>\n",
       "      <th>label</th>\n",
       "      <th>features</th>\n",
       "      <th>N_label</th>\n",
       "    </tr>\n",
       "  </thead>\n",
       "  <tbody>\n",
       "    <tr>\n",
       "      <th>0</th>\n",
       "      <td>i didnt feel humiliated</td>\n",
       "      <td>sadness</td>\n",
       "      <td>didnt feel humili</td>\n",
       "      <td>4</td>\n",
       "    </tr>\n",
       "    <tr>\n",
       "      <th>1</th>\n",
       "      <td>i can go from feeling so hopeless to so damned...</td>\n",
       "      <td>sadness</td>\n",
       "      <td>go feel hopeless damn hope around someon care ...</td>\n",
       "      <td>4</td>\n",
       "    </tr>\n",
       "    <tr>\n",
       "      <th>2</th>\n",
       "      <td>im grabbing a minute to post i feel greedy wrong</td>\n",
       "      <td>anger</td>\n",
       "      <td>im grab minut post feel greedi wrong</td>\n",
       "      <td>0</td>\n",
       "    </tr>\n",
       "    <tr>\n",
       "      <th>3</th>\n",
       "      <td>i am ever feeling nostalgic about the fireplac...</td>\n",
       "      <td>love</td>\n",
       "      <td>ever feel nostalg fireplac know still properti</td>\n",
       "      <td>3</td>\n",
       "    </tr>\n",
       "    <tr>\n",
       "      <th>4</th>\n",
       "      <td>i am feeling grouchy</td>\n",
       "      <td>anger</td>\n",
       "      <td>feel grouchi</td>\n",
       "      <td>0</td>\n",
       "    </tr>\n",
       "    <tr>\n",
       "      <th>...</th>\n",
       "      <td>...</td>\n",
       "      <td>...</td>\n",
       "      <td>...</td>\n",
       "      <td>...</td>\n",
       "    </tr>\n",
       "    <tr>\n",
       "      <th>1995</th>\n",
       "      <td>im having ssa examination tomorrow in the morn...</td>\n",
       "      <td>sadness</td>\n",
       "      <td>im ssa examin tomorrow morn im quit well prepa...</td>\n",
       "      <td>4</td>\n",
       "    </tr>\n",
       "    <tr>\n",
       "      <th>1996</th>\n",
       "      <td>i constantly worry about their fight against n...</td>\n",
       "      <td>joy</td>\n",
       "      <td>constantli worri fight natur push limit inner ...</td>\n",
       "      <td>2</td>\n",
       "    </tr>\n",
       "    <tr>\n",
       "      <th>1997</th>\n",
       "      <td>i feel its important to share this info for th...</td>\n",
       "      <td>joy</td>\n",
       "      <td>feel import share info experi thing</td>\n",
       "      <td>2</td>\n",
       "    </tr>\n",
       "    <tr>\n",
       "      <th>1998</th>\n",
       "      <td>i truly feel that if you are passionate enough...</td>\n",
       "      <td>joy</td>\n",
       "      <td>truli feel passion enough someth stay true suc...</td>\n",
       "      <td>2</td>\n",
       "    </tr>\n",
       "    <tr>\n",
       "      <th>1999</th>\n",
       "      <td>i feel like i just wanna buy any cute make up ...</td>\n",
       "      <td>joy</td>\n",
       "      <td>feel like wanna buy cute make see onlin even one</td>\n",
       "      <td>2</td>\n",
       "    </tr>\n",
       "  </tbody>\n",
       "</table>\n",
       "<p>34000 rows × 4 columns</p>\n",
       "</div>"
      ],
      "text/plain": [
       "                                                   text    label  \\\n",
       "0                               i didnt feel humiliated  sadness   \n",
       "1     i can go from feeling so hopeless to so damned...  sadness   \n",
       "2      im grabbing a minute to post i feel greedy wrong    anger   \n",
       "3     i am ever feeling nostalgic about the fireplac...     love   \n",
       "4                                  i am feeling grouchy    anger   \n",
       "...                                                 ...      ...   \n",
       "1995  im having ssa examination tomorrow in the morn...  sadness   \n",
       "1996  i constantly worry about their fight against n...      joy   \n",
       "1997  i feel its important to share this info for th...      joy   \n",
       "1998  i truly feel that if you are passionate enough...      joy   \n",
       "1999  i feel like i just wanna buy any cute make up ...      joy   \n",
       "\n",
       "                                               features  N_label  \n",
       "0                                     didnt feel humili        4  \n",
       "1     go feel hopeless damn hope around someon care ...        4  \n",
       "2                  im grab minut post feel greedi wrong        0  \n",
       "3        ever feel nostalg fireplac know still properti        3  \n",
       "4                                          feel grouchi        0  \n",
       "...                                                 ...      ...  \n",
       "1995  im ssa examin tomorrow morn im quit well prepa...        4  \n",
       "1996  constantli worri fight natur push limit inner ...        2  \n",
       "1997                feel import share info experi thing        2  \n",
       "1998  truli feel passion enough someth stay true suc...        2  \n",
       "1999   feel like wanna buy cute make see onlin even one        2  \n",
       "\n",
       "[34000 rows x 4 columns]"
      ]
     },
     "execution_count": 15,
     "metadata": {},
     "output_type": "execute_result"
    }
   ],
   "source": [
    "df"
   ]
  },
  {
   "cell_type": "code",
   "execution_count": 19,
   "id": "03f3ec2c-d354-4507-9396-ef269eaaf3dd",
   "metadata": {},
   "outputs": [
    {
     "data": {
      "text/plain": [
       "array([[0, 0, 0, ..., 0, 0, 0],\n",
       "       [0, 0, 0, ..., 0, 0, 0],\n",
       "       [0, 0, 0, ..., 0, 0, 0],\n",
       "       ...,\n",
       "       [0, 0, 0, ..., 0, 0, 0],\n",
       "       [0, 0, 0, ..., 0, 0, 0],\n",
       "       [0, 0, 0, ..., 0, 0, 0]], dtype=int64)"
      ]
     },
     "execution_count": 19,
     "metadata": {},
     "output_type": "execute_result"
    }
   ],
   "source": [
    "from sklearn.feature_extraction.text import CountVectorizer\n",
    "\n",
    "cv = CountVectorizer (max_features=5000, ngram_range=(1,3))\n",
    "\n",
    "data_cv = cv.fit_transform(df['features']).toarray()\n",
    "data_cv"
   ]
  },
  {
   "cell_type": "code",
   "execution_count": 45,
   "id": "746e6815-57dc-4cb6-8142-fc8454afaec3",
   "metadata": {},
   "outputs": [
    {
     "data": {
      "text/plain": [
       "['Text_Count_Vectorizer.pkl']"
      ]
     },
     "execution_count": 45,
     "metadata": {},
     "output_type": "execute_result"
    }
   ],
   "source": [
    "import joblib\n",
    "joblib.dump (cv, 'Text_Count_Vectorizer.pkl')"
   ]
  },
  {
   "cell_type": "code",
   "execution_count": 20,
   "id": "e8d8ab18-e825-4380-b53b-fdd293e57f84",
   "metadata": {},
   "outputs": [
    {
     "data": {
      "text/plain": [
       "(34000, 5000)"
      ]
     },
     "execution_count": 20,
     "metadata": {},
     "output_type": "execute_result"
    }
   ],
   "source": [
    "data_cv.shape"
   ]
  },
  {
   "cell_type": "code",
   "execution_count": 21,
   "id": "ec62f473-9ba3-4db9-a9ed-a7aea9cb5a49",
   "metadata": {},
   "outputs": [],
   "source": [
    "from sklearn.model_selection import train_test_split\n",
    "\n",
    "x_train, x_test, y_train, y_test = train_test_split (data_cv, df['N_label'], test_size=0.25, random_state=42)"
   ]
  },
  {
   "cell_type": "code",
   "execution_count": 22,
   "id": "cf14fd24-0a3d-4063-8592-76261c10549d",
   "metadata": {},
   "outputs": [
    {
     "data": {
      "text/plain": [
       "(25500,)"
      ]
     },
     "execution_count": 22,
     "metadata": {},
     "output_type": "execute_result"
    }
   ],
   "source": [
    "y_train.shape"
   ]
  },
  {
   "cell_type": "code",
   "execution_count": 23,
   "id": "3defa956-d71e-4cb4-94e3-1d6d35f342d4",
   "metadata": {},
   "outputs": [],
   "source": [
    "from tensorflow.keras.models import Sequential\n",
    "from tensorflow.keras.layers import Dense\n"
   ]
  },
  {
   "cell_type": "code",
   "execution_count": 24,
   "id": "dbb31289-a0d3-4911-b013-46b6fe0808fc",
   "metadata": {},
   "outputs": [
    {
     "name": "stderr",
     "output_type": "stream",
     "text": [
      "C:\\Users\\Felix\\AppData\\Local\\anaconda3\\Lib\\site-packages\\keras\\src\\layers\\core\\dense.py:87: UserWarning: Do not pass an `input_shape`/`input_dim` argument to a layer. When using Sequential models, prefer using an `Input(shape)` object as the first layer in the model instead.\n",
      "  super().__init__(activity_regularizer=activity_regularizer, **kwargs)\n"
     ]
    }
   ],
   "source": [
    "model = Sequential ()\n",
    "model.add (Dense(128, input_shape=(data_cv.shape[1],), activation='relu'))\n",
    "model.add (Dense(64, activation='relu'))\n",
    "model.add (Dense(32, activation='relu'))\n",
    "model.add (Dense(6, activation='softmax'))\n",
    "\n",
    "model.compile(loss='sparse_categorical_crossentropy', optimizer='adam', metrics=['accuracy'])"
   ]
  },
  {
   "cell_type": "code",
   "execution_count": 25,
   "id": "ab09550e-ea2b-45f3-83a6-c7274376d22b",
   "metadata": {},
   "outputs": [
    {
     "data": {
      "text/html": [
       "<pre style=\"white-space:pre;overflow-x:auto;line-height:normal;font-family:Menlo,'DejaVu Sans Mono',consolas,'Courier New',monospace\"><span style=\"font-weight: bold\">Model: \"sequential\"</span>\n",
       "</pre>\n"
      ],
      "text/plain": [
       "\u001b[1mModel: \"sequential\"\u001b[0m\n"
      ]
     },
     "metadata": {},
     "output_type": "display_data"
    },
    {
     "data": {
      "text/html": [
       "<pre style=\"white-space:pre;overflow-x:auto;line-height:normal;font-family:Menlo,'DejaVu Sans Mono',consolas,'Courier New',monospace\">┏━━━━━━━━━━━━━━━━━━━━━━━━━━━━━━━━━━━━━━┳━━━━━━━━━━━━━━━━━━━━━━━━━━━━━┳━━━━━━━━━━━━━━━━━┓\n",
       "┃<span style=\"font-weight: bold\"> Layer (type)                         </span>┃<span style=\"font-weight: bold\"> Output Shape                </span>┃<span style=\"font-weight: bold\">         Param # </span>┃\n",
       "┡━━━━━━━━━━━━━━━━━━━━━━━━━━━━━━━━━━━━━━╇━━━━━━━━━━━━━━━━━━━━━━━━━━━━━╇━━━━━━━━━━━━━━━━━┩\n",
       "│ dense (<span style=\"color: #0087ff; text-decoration-color: #0087ff\">Dense</span>)                        │ (<span style=\"color: #00d7ff; text-decoration-color: #00d7ff\">None</span>, <span style=\"color: #00af00; text-decoration-color: #00af00\">128</span>)                 │         <span style=\"color: #00af00; text-decoration-color: #00af00\">640,128</span> │\n",
       "├──────────────────────────────────────┼─────────────────────────────┼─────────────────┤\n",
       "│ dense_1 (<span style=\"color: #0087ff; text-decoration-color: #0087ff\">Dense</span>)                      │ (<span style=\"color: #00d7ff; text-decoration-color: #00d7ff\">None</span>, <span style=\"color: #00af00; text-decoration-color: #00af00\">64</span>)                  │           <span style=\"color: #00af00; text-decoration-color: #00af00\">8,256</span> │\n",
       "├──────────────────────────────────────┼─────────────────────────────┼─────────────────┤\n",
       "│ dense_2 (<span style=\"color: #0087ff; text-decoration-color: #0087ff\">Dense</span>)                      │ (<span style=\"color: #00d7ff; text-decoration-color: #00d7ff\">None</span>, <span style=\"color: #00af00; text-decoration-color: #00af00\">32</span>)                  │           <span style=\"color: #00af00; text-decoration-color: #00af00\">2,080</span> │\n",
       "├──────────────────────────────────────┼─────────────────────────────┼─────────────────┤\n",
       "│ dense_3 (<span style=\"color: #0087ff; text-decoration-color: #0087ff\">Dense</span>)                      │ (<span style=\"color: #00d7ff; text-decoration-color: #00d7ff\">None</span>, <span style=\"color: #00af00; text-decoration-color: #00af00\">6</span>)                   │             <span style=\"color: #00af00; text-decoration-color: #00af00\">198</span> │\n",
       "└──────────────────────────────────────┴─────────────────────────────┴─────────────────┘\n",
       "</pre>\n"
      ],
      "text/plain": [
       "┏━━━━━━━━━━━━━━━━━━━━━━━━━━━━━━━━━━━━━━┳━━━━━━━━━━━━━━━━━━━━━━━━━━━━━┳━━━━━━━━━━━━━━━━━┓\n",
       "┃\u001b[1m \u001b[0m\u001b[1mLayer (type)                        \u001b[0m\u001b[1m \u001b[0m┃\u001b[1m \u001b[0m\u001b[1mOutput Shape               \u001b[0m\u001b[1m \u001b[0m┃\u001b[1m \u001b[0m\u001b[1m        Param #\u001b[0m\u001b[1m \u001b[0m┃\n",
       "┡━━━━━━━━━━━━━━━━━━━━━━━━━━━━━━━━━━━━━━╇━━━━━━━━━━━━━━━━━━━━━━━━━━━━━╇━━━━━━━━━━━━━━━━━┩\n",
       "│ dense (\u001b[38;5;33mDense\u001b[0m)                        │ (\u001b[38;5;45mNone\u001b[0m, \u001b[38;5;34m128\u001b[0m)                 │         \u001b[38;5;34m640,128\u001b[0m │\n",
       "├──────────────────────────────────────┼─────────────────────────────┼─────────────────┤\n",
       "│ dense_1 (\u001b[38;5;33mDense\u001b[0m)                      │ (\u001b[38;5;45mNone\u001b[0m, \u001b[38;5;34m64\u001b[0m)                  │           \u001b[38;5;34m8,256\u001b[0m │\n",
       "├──────────────────────────────────────┼─────────────────────────────┼─────────────────┤\n",
       "│ dense_2 (\u001b[38;5;33mDense\u001b[0m)                      │ (\u001b[38;5;45mNone\u001b[0m, \u001b[38;5;34m32\u001b[0m)                  │           \u001b[38;5;34m2,080\u001b[0m │\n",
       "├──────────────────────────────────────┼─────────────────────────────┼─────────────────┤\n",
       "│ dense_3 (\u001b[38;5;33mDense\u001b[0m)                      │ (\u001b[38;5;45mNone\u001b[0m, \u001b[38;5;34m6\u001b[0m)                   │             \u001b[38;5;34m198\u001b[0m │\n",
       "└──────────────────────────────────────┴─────────────────────────────┴─────────────────┘\n"
      ]
     },
     "metadata": {},
     "output_type": "display_data"
    },
    {
     "data": {
      "text/html": [
       "<pre style=\"white-space:pre;overflow-x:auto;line-height:normal;font-family:Menlo,'DejaVu Sans Mono',consolas,'Courier New',monospace\"><span style=\"font-weight: bold\"> Total params: </span><span style=\"color: #00af00; text-decoration-color: #00af00\">650,662</span> (2.48 MB)\n",
       "</pre>\n"
      ],
      "text/plain": [
       "\u001b[1m Total params: \u001b[0m\u001b[38;5;34m650,662\u001b[0m (2.48 MB)\n"
      ]
     },
     "metadata": {},
     "output_type": "display_data"
    },
    {
     "data": {
      "text/html": [
       "<pre style=\"white-space:pre;overflow-x:auto;line-height:normal;font-family:Menlo,'DejaVu Sans Mono',consolas,'Courier New',monospace\"><span style=\"font-weight: bold\"> Trainable params: </span><span style=\"color: #00af00; text-decoration-color: #00af00\">650,662</span> (2.48 MB)\n",
       "</pre>\n"
      ],
      "text/plain": [
       "\u001b[1m Trainable params: \u001b[0m\u001b[38;5;34m650,662\u001b[0m (2.48 MB)\n"
      ]
     },
     "metadata": {},
     "output_type": "display_data"
    },
    {
     "data": {
      "text/html": [
       "<pre style=\"white-space:pre;overflow-x:auto;line-height:normal;font-family:Menlo,'DejaVu Sans Mono',consolas,'Courier New',monospace\"><span style=\"font-weight: bold\"> Non-trainable params: </span><span style=\"color: #00af00; text-decoration-color: #00af00\">0</span> (0.00 B)\n",
       "</pre>\n"
      ],
      "text/plain": [
       "\u001b[1m Non-trainable params: \u001b[0m\u001b[38;5;34m0\u001b[0m (0.00 B)\n"
      ]
     },
     "metadata": {},
     "output_type": "display_data"
    }
   ],
   "source": [
    "model.summary()"
   ]
  },
  {
   "cell_type": "code",
   "execution_count": 27,
   "id": "d28b845a-7848-4925-8ad0-da78866a8ad9",
   "metadata": {},
   "outputs": [
    {
     "name": "stdout",
     "output_type": "stream",
     "text": [
      "Epoch 1/10\n",
      "\u001b[1m50/50\u001b[0m \u001b[32m━━━━━━━━━━━━━━━━━━━━\u001b[0m\u001b[37m\u001b[0m \u001b[1m16s\u001b[0m 58ms/step - accuracy: 0.3917 - loss: 1.6447 - val_accuracy: 0.6286 - val_loss: 0.9009\n",
      "Epoch 2/10\n",
      "\u001b[1m50/50\u001b[0m \u001b[32m━━━━━━━━━━━━━━━━━━━━\u001b[0m\u001b[37m\u001b[0m \u001b[1m2s\u001b[0m 36ms/step - accuracy: 0.7839 - loss: 0.6177 - val_accuracy: 0.9162 - val_loss: 0.2468\n",
      "Epoch 3/10\n",
      "\u001b[1m50/50\u001b[0m \u001b[32m━━━━━━━━━━━━━━━━━━━━\u001b[0m\u001b[37m\u001b[0m \u001b[1m2s\u001b[0m 36ms/step - accuracy: 0.9619 - loss: 0.1274 - val_accuracy: 0.9459 - val_loss: 0.1702\n",
      "Epoch 4/10\n",
      "\u001b[1m50/50\u001b[0m \u001b[32m━━━━━━━━━━━━━━━━━━━━\u001b[0m\u001b[37m\u001b[0m \u001b[1m2s\u001b[0m 37ms/step - accuracy: 0.9840 - loss: 0.0586 - val_accuracy: 0.9549 - val_loss: 0.1560\n",
      "Epoch 5/10\n",
      "\u001b[1m50/50\u001b[0m \u001b[32m━━━━━━━━━━━━━━━━━━━━\u001b[0m\u001b[37m\u001b[0m \u001b[1m2s\u001b[0m 36ms/step - accuracy: 0.9907 - loss: 0.0351 - val_accuracy: 0.9567 - val_loss: 0.1562\n",
      "Epoch 6/10\n",
      "\u001b[1m50/50\u001b[0m \u001b[32m━━━━━━━━━━━━━━━━━━━━\u001b[0m\u001b[37m\u001b[0m \u001b[1m2s\u001b[0m 36ms/step - accuracy: 0.9934 - loss: 0.0235 - val_accuracy: 0.9586 - val_loss: 0.1630\n",
      "Epoch 7/10\n",
      "\u001b[1m50/50\u001b[0m \u001b[32m━━━━━━━━━━━━━━━━━━━━\u001b[0m\u001b[37m\u001b[0m \u001b[1m2s\u001b[0m 38ms/step - accuracy: 0.9956 - loss: 0.0177 - val_accuracy: 0.9576 - val_loss: 0.1690\n",
      "Epoch 8/10\n",
      "\u001b[1m50/50\u001b[0m \u001b[32m━━━━━━━━━━━━━━━━━━━━\u001b[0m\u001b[37m\u001b[0m \u001b[1m2s\u001b[0m 36ms/step - accuracy: 0.9958 - loss: 0.0160 - val_accuracy: 0.9575 - val_loss: 0.1777\n",
      "Epoch 9/10\n",
      "\u001b[1m50/50\u001b[0m \u001b[32m━━━━━━━━━━━━━━━━━━━━\u001b[0m\u001b[37m\u001b[0m \u001b[1m2s\u001b[0m 36ms/step - accuracy: 0.9961 - loss: 0.0127 - val_accuracy: 0.9580 - val_loss: 0.1839\n",
      "Epoch 10/10\n",
      "\u001b[1m50/50\u001b[0m \u001b[32m━━━━━━━━━━━━━━━━━━━━\u001b[0m\u001b[37m\u001b[0m \u001b[1m2s\u001b[0m 39ms/step - accuracy: 0.9963 - loss: 0.0122 - val_accuracy: 0.9565 - val_loss: 0.1901\n"
     ]
    }
   ],
   "source": [
    "history = model.fit (x_train, y_train, batch_size=512, epochs=10, validation_data=(x_test, y_test))"
   ]
  },
  {
   "cell_type": "code",
   "execution_count": 28,
   "id": "bba73059-79e0-4ff6-9b4a-4f937e28428f",
   "metadata": {},
   "outputs": [
    {
     "data": {
      "image/png": "[encoded data removed]",
      "text/plain": [
       "<Figure size 640x480 with 1 Axes>"
      ]
     },
     "metadata": {},
     "output_type": "display_data"
    }
   ],
   "source": [
    "epochs = list(range(10))\n",
    "\n",
    "acc = history.history ['accuracy']\n",
    "val_acc = history.history ['val_accuracy']\n",
    "loss = history.history ['loss']\n",
    "val_loss = history.history['val_loss']\n",
    "\n",
    "plt.plot(epochs, acc, label='accuracy')\n",
    "plt.plot (epochs, val_acc, label='val_accuracy')\n",
    "plt.xlabel ('epochs')\n",
    "plt.ylabel ('accuracy')\n",
    "plt.legend()\n",
    "plt.show()\n"
   ]
  },
  {
   "cell_type": "code",
   "execution_count": 29,
   "id": "3b809e94-171d-4312-b50e-46542316e194",
   "metadata": {},
   "outputs": [
    {
     "data": {
      "image/png": "[encoded data removed]",
      "text/plain": [
       "<Figure size 640x480 with 1 Axes>"
      ]
     },
     "metadata": {},
     "output_type": "display_data"
    }
   ],
   "source": [
    "plt.plot (epochs, loss, label='loss')\n",
    "plt.plot (epochs, val_loss, label='val_loss')\n",
    "plt.xlabel ('epochs')\n",
    "plt.ylabel ('loss')\n",
    "plt.legend()\n",
    "plt.show()"
   ]
  },
  {
   "cell_type": "code",
   "execution_count": 30,
   "id": "0de06397-2fba-469b-99f8-59c69c1bb305",
   "metadata": {},
   "outputs": [
    {
     "name": "stdout",
     "output_type": "stream",
     "text": [
      "\u001b[1m266/266\u001b[0m \u001b[32m━━━━━━━━━━━━━━━━━━━━\u001b[0m\u001b[37m\u001b[0m \u001b[1m1s\u001b[0m 4ms/step - accuracy: 0.9540 - loss: 0.2057\n"
     ]
    }
   ],
   "source": [
    "loss, accuracy = model.evaluate (x_test, y_test, verbose=1)"
   ]
  },
  {
   "cell_type": "code",
   "execution_count": 31,
   "id": "66a93a74-af7f-45e3-94a9-3c03be2eb163",
   "metadata": {},
   "outputs": [
    {
     "data": {
      "text/plain": [
       "0.9564706087112427"
      ]
     },
     "execution_count": 31,
     "metadata": {},
     "output_type": "execute_result"
    }
   ],
   "source": [
    "accuracy"
   ]
  },
  {
   "cell_type": "code",
   "execution_count": 32,
   "id": "dcb90161-806b-4b74-812e-72571f7e9f1c",
   "metadata": {},
   "outputs": [
    {
     "data": {
      "text/plain": [
       "0.19014397263526917"
      ]
     },
     "execution_count": 32,
     "metadata": {},
     "output_type": "execute_result"
    }
   ],
   "source": [
    "loss"
   ]
  },
  {
   "cell_type": "code",
   "execution_count": 33,
   "id": "12cd3127-31bd-47ea-ae1b-9dda26474243",
   "metadata": {},
   "outputs": [
    {
     "name": "stdout",
     "output_type": "stream",
     "text": [
      "\u001b[1m266/266\u001b[0m \u001b[32m━━━━━━━━━━━━━━━━━━━━\u001b[0m\u001b[37m\u001b[0m \u001b[1m1s\u001b[0m 3ms/step\n"
     ]
    },
    {
     "data": {
      "text/plain": [
       "array([[1.3536023e-04, 3.1496404e-04, 9.7695333e-01, 1.7793091e-02,\n",
       "        1.8000082e-06, 4.8014121e-03],\n",
       "       [1.7884821e-03, 1.7742086e-02, 4.0001632e-03, 1.6203753e-04,\n",
       "        6.5155560e-04, 9.7565573e-01],\n",
       "       [2.0200676e-05, 1.0788497e-05, 7.6743898e-05, 9.9988639e-01,\n",
       "        3.9199281e-06, 1.9598585e-06],\n",
       "       ...,\n",
       "       [2.6296512e-08, 1.2292107e-08, 9.9999356e-01, 6.2194090e-06,\n",
       "        1.7771912e-08, 2.3641778e-07],\n",
       "       [1.7414284e-05, 9.9324787e-01, 2.1110005e-05, 7.5894627e-06,\n",
       "        2.5501792e-04, 6.4510149e-03],\n",
       "       [1.6646867e-07, 1.9188717e-05, 2.6122261e-06, 9.9997592e-01,\n",
       "        3.3789116e-10, 2.1099929e-06]], dtype=float32)"
      ]
     },
     "execution_count": 33,
     "metadata": {},
     "output_type": "execute_result"
    }
   ],
   "source": [
    "from sklearn.metrics import accuracy_score\n",
    "\n",
    "y_pred = model.predict(x_test)\n",
    "\n",
    "y_pred"
   ]
  },
  {
   "cell_type": "code",
   "execution_count": 34,
   "id": "1d9b171a-fb76-48f4-91e5-79b4ab4dce43",
   "metadata": {},
   "outputs": [
    {
     "name": "stdout",
     "output_type": "stream",
     "text": [
      "[2, 5, 3, 4, 2, 4, 2, 4, 4, 4, 3, 2, 2, 2, 2, 4, 2, 2, 2, 2, 1, 4, 2, 4, 4, 0, 2, 4, 4, 2, 0, 3, 4, 3, 0, 0, 2, 2, 5, 2, 4, 4, 2, 2, 4, 2, 3, 4, 4, 2, 4, 2, 1, 1, 1, 4, 1, 3, 1, 0, 2, 2, 4, 2, 1, 2, 1, 2, 0, 4, 2, 4, 2, 2, 2, 2, 4, 1, 4, 0, 2, 4, 3, 4, 2, 1, 0, 0, 4, 4, 2, 4, 2, 0, 4, 4, 2, 3, 2, 2, 2, 0, 0, 5, 4, 4, 4, 2, 5, 0, 4, 2, 0, 2, 4, 2, 2, 4, 4, 4, 4, 3, 0, 3, 5, 4, 2, 0, 2, 0, 2, 1, 0, 1, 4, 1, 2, 5, 2, 2, 4, 3, 4, 2, 3, 4, 2, 1, 4, 2, 0, 1, 4, 0, 4, 2, 3, 4, 2, 2, 4, 0, 1, 2, 4, 4, 4, 0, 0, 2, 4, 4, 0, 4, 2, 3, 1, 2, 0, 4, 4, 4, 0, 2, 2, 2, 2, 1, 4, 4, 2, 2, 1, 0, 1, 0, 0, 4, 2, 0, 3, 4, 0, 1, 4, 4, 4, 2, 0, 1, 2, 2, 2, 0, 2, 2, 2, 1, 4, 3, 2, 2, 1, 2, 4, 4, 4, 3, 0, 2, 4, 2, 4, 4, 0, 2, 1, 2, 1, 2, 2, 4, 4, 4, 0, 4, 2, 4, 0, 2, 4, 2, 2, 2, 0, 3, 4, 1, 2, 3, 4, 1, 4, 4, 3, 4, 4, 2, 2, 2, 2, 4, 1, 4, 5, 2, 0, 2, 4, 4, 2, 4, 2, 2, 3, 0, 1, 0, 4, 0, 2, 0, 5, 2, 0, 2, 1, 4, 2, 0, 2, 2, 2, 2, 4, 2, 1, 2, 4, 2, 2, 0, 3, 3, 2, 2, 2, 2, 3, 2, 4, 2, 5, 2, 0, 1, 0, 2, 5, 2, 3, 0, 2, 2, 3, 4, 2, 4, 4, 4, 4, 4, 1, 0, 3, 2, 2, 2, 1, 4, 4, 0, 2, 2, 0, 5, 4, 4, 2, 0, 4, 2, 4, 4, 4, 0, 4, 2, 4, 4, 2, 4, 4, 1, 3, 1, 0, 4, 2, 3, 3, 3, 0, 4, 4, 1, 4, 3, 1, 2, 2, 2, 1, 4, 5, 2, 2, 1, 0, 2, 4, 2, 0, 3, 0, 4, 4, 4, 3, 2, 4, 0, 4, 2, 2, 1, 0, 4, 2, 4, 2, 4, 4, 2, 0, 3, 4, 2, 3, 0, 2, 2, 0, 2, 2, 1, 1, 1, 4, 0, 2, 4, 1, 2, 3, 2, 1, 2, 2, 2, 2, 2, 0, 4, 4, 0, 4, 0, 1, 2, 4, 3, 2, 4, 1, 1, 4, 0, 2, 0, 3, 2, 2, 2, 0, 1, 1, 4, 1, 2, 3, 0, 0, 3, 4, 2, 4, 1, 4, 3, 1, 2, 2, 4, 4, 2, 0, 4, 2, 0, 0, 2, 0, 2, 4, 4, 2, 3, 2, 1, 4, 3, 0, 4, 4, 4, 4, 0, 2, 4, 2, 4, 0, 2, 2, 3, 0, 2, 0, 4, 4, 2, 4, 2, 2, 2, 0, 2, 1, 1, 4, 2, 1, 4, 2, 0, 0, 4, 0, 2, 0, 1, 1, 1, 2, 2, 2, 4, 2, 4, 4, 5, 0, 2, 4, 0, 4, 2, 1, 3, 1, 0, 1, 1, 1, 2, 0, 1, 2, 4, 4, 4, 0, 4, 0, 0, 4, 5, 0, 4, 2, 0, 3, 2, 2, 4, 4, 2, 1, 2, 2, 4, 0, 2, 3, 0, 4, 2, 2, 0, 0, 4, 4, 2, 0, 4, 4, 2, 0, 1, 4, 2, 1, 2, 0, 5, 5, 2, 4, 2, 1, 2, 2, 3, 2, 0, 4, 4, 2, 2, 0, 4, 2, 4, 3, 0, 4, 0, 0, 4, 2, 1, 0, 1, 1, 2, 4, 2, 4, 0, 0, 4, 2, 0, 4, 3, 0, 1, 2, 2, 2, 4, 2, 1, 0, 2, 2, 3, 3, 4, 3, 2, 4, 2, 2, 3, 2, 2, 4, 2, 2, 3, 4, 4, 4, 1, 2, 4, 1, 4, 3, 3, 4, 3, 3, 4, 4, 4, 5, 0, 2, 1, 4, 2, 3, 2, 0, 2, 4, 3, 4, 4, 1, 1, 0, 4, 5, 1, 2, 4, 2, 0, 5, 4, 4, 0, 4, 2, 2, 1, 0, 4, 0, 3, 0, 1, 1, 4, 4, 3, 1, 4, 4, 4, 2, 4, 1, 2, 2, 4, 2, 3, 2, 2, 0, 4, 4, 2, 4, 2, 1, 2, 3, 2, 4, 0, 2, 2, 0, 2, 2, 1, 4, 1, 2, 2, 4, 2, 1, 2, 0, 2, 4, 0, 1, 0, 4, 0, 1, 3, 4, 1, 4, 5, 4, 2, 4, 4, 2, 4, 2, 2, 2, 2, 2, 2, 4, 4, 1, 2, 0, 1, 0, 0, 2, 2, 0, 4, 4, 5, 1, 2, 1, 4, 4, 4, 2, 5, 4, 0, 2, 0, 2, 2, 4, 0, 2, 1, 4, 4, 2, 2, 1, 3, 1, 4, 2, 0, 4, 0, 2, 2, 1, 2, 4, 0, 4, 4, 3, 4, 0, 2, 4, 0, 2, 2, 1, 4, 2, 0, 0, 4, 2, 0, 2, 2, 4, 0, 2, 2, 3, 3, 4, 3, 4, 2, 0, 4, 1, 2, 2, 4, 4, 2, 4, 2, 0, 5, 5, 4, 2, 2, 2, 2, 2, 1, 2, 0, 4, 2, 4, 0, 3, 1, 3, 2, 4, 2, 1, 2, 0, 4, 2, 3, 2, 2, 0, 2, 2, 2, 1, 5, 4, 4, 4, 4, 1, 4, 1, 4, 4, 4, 0, 3, 4, 2, 1, 1, 2, 4, 4, 2, 4, 4, 4, 0, 4, 2, 0, 4, 4, 3, 2, 2, 4, 4, 3, 3, 4, 0, 0, 4, 4, 3, 2, 2, 3, 0, 2, 4, 4, 2, 2, 2, 4, 4, 2, 1, 2, 0, 2, 4, 2, 4, 4, 1, 2, 2, 4, 4, 0, 4, 4, 2, 0, 0, 4, 4, 4, 0, 0, 0, 1, 2, 2, 2, 5, 2, 0, 4, 4, 4, 0, 1, 2, 1, 3, 2, 4, 2, 4, 2, 4, 2, 0, 2, 2, 4, 2, 2, 2, 2, 2, 2, 2, 0, 3, 4, 0, 1, 4, 4, 2, 2, 0, 5, 2, 4, 2, 3, 2, 3, 4, 2, 5, 2, 2, 0, 4, 4, 2, 2, 4, 0, 4, 2, 3, 1, 2, 3, 2, 4, 4, 2, 0, 2, 1, 4, 0, 4, 2, 4, 2, 4, 1, 1, 4, 0, 4, 2, 1, 1, 2, 4, 4, 4, 2, 4, 2, 1, 2, 2, 2, 2, 4, 2, 1, 2, 2, 1, 2, 0, 2, 4, 0, 2, 4, 2, 0, 3, 4, 0, 2, 2, 0, 2, 4, 1, 2, 1, 3, 1, 4, 2, 1, 4, 2, 2, 1, 3, 2, 2, 2, 2, 1, 4, 2, 2, 2, 2, 2, 4, 4, 0, 4, 2, 4, 4, 4, 1, 1, 0, 2, 2, 2, 2, 5, 2, 1, 0, 4, 2, 4, 2, 0, 0, 0, 2, 4, 2, 2, 4, 2, 4, 4, 0, 4, 2, 0, 4, 4, 4, 2, 1, 1, 3, 4, 2, 4, 4, 4, 0, 2, 3, 0, 0, 2, 4, 2, 2, 4, 1, 2, 1, 4, 4, 0, 2, 4, 4, 0, 3, 1, 0, 2, 4, 2, 2, 1, 4, 4, 2, 5, 0, 4, 4, 4, 4, 5, 2, 4, 1, 2, 2, 5, 2, 2, 2, 0, 1, 0, 1, 1, 4, 4, 4, 2, 3, 3, 4, 3, 2, 2, 2, 2, 0, 2, 2, 2, 3, 3, 2, 2, 1, 4, 2, 2, 1, 4, 2, 4, 2, 2, 1, 1, 2, 1, 3, 3, 4, 4, 0, 4, 2, 3, 4, 4, 4, 3, 0, 3, 2, 3, 4, 2, 4, 2, 4, 5, 2, 4, 3, 4, 1, 4, 2, 3, 2, 2, 5, 2, 4, 3, 4, 5, 4, 2, 4, 0, 2, 1, 2, 0, 2, 2, 0, 2, 2, 3, 4, 4, 2, 0, 0, 4, 4, 4, 4, 2, 4, 4, 0, 4, 2, 4, 2, 2, 4, 0, 4, 4, 2, 0, 2, 3, 2, 2, 4, 2, 4, 4, 2, 2, 0, 4, 4, 2, 2, 4, 2, 2, 1, 4, 4, 4, 2, 2, 4, 4, 2, 0, 2, 2, 2, 3, 1, 2, 0, 2, 0, 1, 4, 2, 0, 1, 4, 2, 4, 5, 1, 5, 4, 1, 4, 4, 4, 5, 2, 3, 2, 2, 2, 1, 4, 2, 2, 2, 4, 2, 0, 2, 2, 1, 4, 3, 4, 0, 4, 1, 4, 2, 3, 3, 0, 4, 5, 0, 4, 4, 0, 1, 4, 2, 2, 2, 2, 2, 4, 0, 2, 0, 4, 1, 1, 2, 1, 1, 0, 4, 4, 4, 1, 1, 4, 0, 2, 1, 2, 1, 4, 0, 4, 4, 0, 2, 4, 2, 4, 2, 2, 2, 0, 2, 4, 4, 4, 2, 4, 2, 4, 1, 1, 3, 1, 4, 0, 4, 4, 2, 4, 4, 4, 2, 4, 4, 4, 2, 4, 2, 2, 3, 2, 0, 4, 4, 2, 2, 2, 2, 2, 3, 1, 2, 3, 2, 2, 0, 2, 0, 2, 1, 4, 2, 2, 2, 3, 0, 4, 4, 4, 2, 5, 4, 5, 2, 2, 2, 0, 4, 2, 0, 3, 2, 1, 1, 0, 3, 2, 4, 2, 3, 2, 2, 2, 4, 0, 1, 4, 2, 3, 3, 4, 2, 2, 2, 4, 4, 3, 4, 0, 0, 5, 2, 2, 3, 0, 4, 0, 0, 2, 3, 2, 1, 4, 4, 4, 1, 2, 4, 0, 2, 2, 1, 2, 3, 1, 4, 3, 2, 4, 1, 2, 4, 0, 4, 2, 2, 2, 3, 2, 4, 4, 0, 2, 4, 4, 1, 2, 2, 4, 2, 3, 1, 4, 4, 1, 5, 2, 2, 3, 4, 1, 2, 2, 2, 1, 1, 4, 2, 4, 4, 4, 4, 4, 2, 1, 0, 5, 4, 2, 2, 4, 2, 2, 2, 2, 2, 2, 2, 2, 1, 3, 4, 2, 0, 4, 3, 1, 1, 2, 4, 3, 2, 0, 3, 3, 1, 2, 4, 0, 3, 0, 3, 1, 2, 4, 4, 4, 5, 4, 4, 2, 4, 1, 0, 2, 2, 2, 2, 0, 2, 3, 4, 2, 5, 4, 4, 2, 2, 2, 3, 2, 1, 4, 4, 5, 4, 2, 4, 2, 4, 2, 4, 4, 0, 2, 1, 2, 2, 4, 1, 0, 0, 2, 3, 4, 0, 4, 3, 3, 1, 0, 2, 2, 4, 2, 0, 4, 1, 2, 4, 2, 0, 4, 4, 2, 4, 4, 2, 4, 4, 3, 2, 0, 0, 4, 3, 2, 1, 3, 0, 2, 2, 4, 1, 2, 3, 4, 2, 2, 5, 1, 1, 1, 3, 3, 3, 4, 4, 4, 1, 1, 4, 1, 2, 2, 2, 0, 0, 4, 4, 4, 2, 2, 2, 2, 2, 4, 2, 2, 2, 3, 2, 0, 4, 0, 4, 0, 2, 3, 4, 2, 2, 4, 0, 0, 2, 2, 4, 2, 4, 4, 0, 2, 2, 4, 4, 2, 5, 4, 4, 2, 2, 0, 3, 2, 4, 0, 1, 4, 3, 2, 4, 2, 1, 4, 4, 4, 2, 4, 0, 4, 2, 2, 3, 4, 1, 2, 4, 4, 4, 2, 2, 4, 4, 4, 4, 3, 2, 1, 4, 4, 4, 3, 2, 1, 3, 4, 2, 4, 4, 0, 2, 4, 0, 3, 1, 2, 4, 4, 2, 2, 2, 4, 4, 4, 1, 3, 2, 1, 4, 0, 2, 2, 1, 2, 3, 4, 0, 4, 5, 2, 2, 2, 2, 2, 0, 1, 4, 1, 4, 2, 2, 4, 1, 4, 4, 4, 4, 4, 1, 4, 2, 1, 4, 2, 2, 2, 2, 4, 3, 0, 2, 4, 4, 4, 0, 2, 4, 4, 1, 2, 5, 4, 2, 1, 4, 4, 2, 0, 4, 3, 2, 2, 1, 2, 4, 4, 1, 4, 0, 2, 3, 2, 3, 0, 4, 2, 4, 0, 4, 5, 2, 2, 4, 2, 4, 4, 2, 1, 0, 4, 0, 0, 2, 2, 0, 2, 4, 2, 4, 1, 2, 1, 0, 2, 1, 4, 2, 0, 2, 0, 2, 4, 1, 2, 0, 2, 0, 4, 0, 4, 4, 4, 0, 4, 4, 5, 2, 4, 1, 4, 2, 2, 1, 2, 4, 2, 2, 2, 2, 2, 2, 0, 4, 2, 4, 0, 1, 2, 3, 3, 2, 4, 3, 0, 0, 4, 2, 1, 3, 1, 2, 2, 0, 4, 4, 4, 4, 4, 2, 1, 2, 3, 2, 0, 3, 0, 2, 4, 5, 0, 3, 4, 1, 2, 2, 0, 1, 2, 2, 2, 4, 1, 2, 4, 5, 4, 2, 0, 1, 4, 2, 1, 2, 4, 0, 4, 1, 2, 4, 0, 3, 4, 4, 0, 2, 5, 4, 4, 3, 0, 2, 0, 4, 2, 4, 4, 4, 2, 1, 1, 0, 0, 4, 0, 0, 2, 2, 0, 2, 1, 2, 4, 4, 2, 0, 2, 4, 2, 2, 2, 0, 4, 2, 2, 0, 2, 2, 1, 2, 4, 4, 2, 3, 4, 4, 1, 1, 4, 1, 0, 4, 2, 1, 5, 2, 4, 2, 2, 2, 1, 2, 4, 4, 0, 2, 4, 0, 2, 2, 0, 2, 2, 4, 5, 3, 0, 5, 2, 4, 0, 4, 0, 4, 4, 1, 3, 4, 1, 4, 5, 2, 1, 0, 1, 2, 1, 3, 2, 4, 4, 2, 3, 4, 2, 4, 2, 0, 0, 3, 2, 4, 1, 3, 2, 4, 3, 4, 3, 0, 2, 1, 2, 4, 2, 2, 4, 4, 0, 3, 0, 2, 1, 0, 3, 2, 1, 4, 4, 1, 4, 4, 0, 5, 4, 0, 2, 4, 1, 2, 0, 4, 4, 2, 4, 2, 4, 2, 2, 0, 2, 4, 0, 3, 4, 2, 0, 4, 3, 3, 4, 2, 4, 4, 2, 2, 2, 3, 2, 4, 1, 3, 1, 0, 4, 4, 4, 5, 4, 0, 4, 4, 2, 1, 2, 4, 1, 4, 2, 2, 2, 5, 4, 2, 2, 5, 5, 0, 2, 2, 2, 2, 3, 2, 0, 2, 0, 4, 1, 1, 2, 2, 4, 4, 4, 0, 2, 2, 2, 2, 3, 3, 4, 4, 2, 2, 2, 1, 2, 4, 2, 4, 0, 4, 1, 2, 2, 1, 4, 2, 2, 2, 1, 3, 4, 1, 4, 2, 2, 1, 4, 1, 3, 4, 0, 2, 2, 3, 3, 5, 4, 4, 4, 2, 1, 4, 2, 2, 2, 4, 0, 0, 2, 0, 4, 4, 0, 1, 4, 3, 2, 0, 1, 2, 4, 2, 4, 2, 3, 4, 4, 1, 1, 0, 4, 1, 4, 3, 2, 3, 4, 2, 4, 4, 1, 4, 0, 0, 2, 5, 4, 4, 4, 1, 2, 5, 2, 4, 4, 4, 0, 3, 4, 1, 0, 4, 2, 2, 2, 4, 4, 2, 2, 0, 0, 1, 2, 1, 0, 1, 4, 0, 1, 2, 2, 2, 2, 4, 0, 2, 2, 3, 4, 4, 2, 0, 1, 1, 0, 4, 2, 2, 4, 1, 2, 2, 0, 5, 4, 1, 4, 2, 3, 2, 2, 4, 4, 4, 1, 2, 4, 4, 4, 4, 2, 1, 2, 0, 3, 1, 2, 0, 2, 3, 4, 1, 2, 1, 3, 3, 5, 4, 4, 2, 3, 3, 1, 1, 0, 1, 2, 4, 4, 0, 4, 4, 2, 4, 2, 4, 0, 2, 3, 1, 2, 2, 0, 2, 5, 3, 2, 3, 0, 2, 2, 4, 4, 4, 1, 4, 0, 0, 0, 2, 0, 0, 2, 0, 1, 4, 2, 4, 3, 5, 2, 2, 2, 3, 1, 4, 4, 2, 2, 0, 2, 2, 4, 2, 4, 3, 4, 4, 1, 4, 2, 2, 4, 3, 2, 3, 2, 2, 2, 4, 1, 3, 4, 2, 5, 2, 2, 2, 2, 4, 4, 1, 4, 2, 0, 0, 1, 5, 4, 2, 2, 4, 2, 1, 4, 1, 2, 1, 2, 2, 5, 1, 4, 4, 2, 2, 2, 1, 2, 2, 2, 1, 2, 1, 2, 2, 0, 4, 4, 2, 4, 2, 2, 4, 2, 2, 4, 4, 4, 4, 0, 2, 2, 2, 1, 3, 1, 1, 1, 2, 0, 3, 2, 0, 1, 4, 4, 2, 1, 3, 4, 4, 4, 4, 4, 4, 2, 4, 4, 4, 2, 3, 4, 2, 0, 1, 4, 2, 1, 4, 4, 4, 2, 4, 1, 2, 2, 4, 2, 3, 3, 4, 3, 2, 4, 4, 2, 1, 2, 2, 3, 1, 1, 4, 0, 2, 2, 3, 4, 1, 1, 0, 0, 0, 2, 4, 2, 4, 2, 0, 4, 4, 3, 2, 2, 2, 2, 1, 2, 4, 2, 2, 2, 1, 1, 2, 4, 3, 1, 1, 4, 3, 4, 1, 0, 4, 2, 2, 1, 4, 0, 0, 4, 1, 2, 4, 4, 4, 0, 4, 2, 2, 4, 3, 4, 0, 4, 2, 4, 1, 4, 4, 2, 2, 4, 5, 1, 4, 2, 4, 4, 4, 2, 0, 4, 2, 0, 1, 2, 4, 2, 1, 4, 4, 3, 2, 2, 2, 4, 0, 4, 0, 2, 1, 2, 4, 4, 2, 0, 2, 4, 4, 4, 4, 4, 0, 2, 4, 0, 4, 3, 2, 2, 1, 4, 4, 4, 1, 2, 4, 0, 5, 0, 2, 0, 1, 3, 4, 3, 2, 2, 2, 4, 1, 4, 4, 0, 4, 4, 3, 4, 0, 1, 3, 3, 4, 2, 3, 1, 3, 4, 2, 2, 3, 1, 4, 4, 2, 4, 4, 4, 3, 4, 4, 4, 2, 2, 4, 2, 4, 0, 4, 4, 5, 4, 1, 4, 4, 0, 3, 3, 4, 1, 5, 2, 2, 3, 4, 4, 2, 1, 4, 4, 4, 0, 4, 4, 1, 4, 1, 2, 4, 4, 4, 4, 3, 4, 1, 4, 4, 5, 5, 0, 1, 0, 2, 4, 4, 0, 0, 2, 5, 4, 2, 5, 2, 0, 0, 2, 2, 2, 4, 4, 4, 2, 2, 2, 1, 2, 2, 2, 1, 4, 4, 3, 3, 2, 4, 2, 3, 2, 4, 5, 4, 1, 0, 0, 2, 2, 2, 4, 4, 2, 4, 0, 1, 4, 4, 2, 5, 4, 2, 1, 2, 3, 3, 4, 4, 4, 4, 4, 3, 4, 4, 0, 3, 4, 3, 4, 2, 4, 2, 3, 1, 4, 4, 0, 3, 2, 3, 2, 4, 2, 2, 0, 3, 5, 1, 0, 4, 2, 4, 1, 3, 4, 1, 5, 4, 4, 4, 2, 2, 2, 4, 1, 2, 1, 4, 2, 2, 2, 3, 4, 1, 2, 0, 2, 3, 4, 1, 2, 4, 2, 2, 2, 3, 4, 2, 1, 3, 4, 2, 0, 1, 2, 2, 0, 2, 2, 4, 4, 4, 4, 0, 2, 4, 4, 4, 3, 3, 4, 1, 0, 1, 1, 0, 4, 2, 5, 0, 1, 4, 2, 2, 2, 4, 0, 2, 4, 1, 4, 3, 4, 4, 4, 4, 2, 0, 2, 1, 2, 5, 3, 2, 2, 2, 2, 2, 2, 2, 0, 5, 1, 3, 4, 4, 0, 2, 4, 2, 2, 4, 2, 2, 1, 1, 4, 4, 1, 3, 4, 2, 0, 4, 4, 2, 1, 4, 4, 4, 4, 2, 4, 2, 0, 1, 4, 2, 0, 2, 3, 3, 1, 2, 2, 3, 1, 4, 4, 0, 1, 4, 3, 4, 1, 2, 1, 2, 0, 4, 4, 0, 0, 2, 0, 3, 2, 2, 2, 0, 4, 0, 4, 2, 4, 2, 5, 2, 0, 2, 2, 1, 0, 0, 1, 0, 2, 2, 2, 2, 4, 0, 1, 2, 4, 4, 2, 4, 2, 5, 2, 0, 4, 0, 2, 1, 2, 2, 5, 2, 4, 4, 4, 1, 2, 4, 4, 4, 1, 5, 4, 4, 1, 2, 4, 0, 0, 2, 4, 4, 4, 4, 0, 4, 4, 3, 2, 2, 4, 2, 1, 2, 4, 4, 2, 5, 4, 4, 4, 0, 3, 3, 1, 4, 2, 2, 1, 4, 2, 4, 4, 2, 4, 2, 4, 2, 1, 4, 2, 1, 2, 4, 3, 4, 2, 3, 4, 2, 1, 4, 2, 2, 0, 3, 0, 3, 4, 4, 0, 4, 4, 0, 4, 4, 4, 4, 2, 2, 3, 1, 1, 4, 5, 1, 1, 0, 0, 4, 2, 2, 4, 1, 1, 4, 2, 4, 2, 2, 3, 0, 2, 4, 1, 4, 4, 2, 3, 3, 1, 0, 2, 2, 4, 1, 5, 3, 0, 4, 4, 3, 4, 1, 5, 4, 2, 4, 0, 0, 4, 4, 4, 5, 4, 2, 4, 5, 2, 2, 0, 4, 3, 0, 2, 0, 4, 4, 2, 1, 4, 2, 1, 4, 0, 2, 4, 0, 2, 2, 0, 0, 4, 0, 3, 4, 2, 2, 0, 2, 0, 2, 4, 4, 2, 2, 2, 0, 2, 0, 4, 2, 0, 4, 2, 2, 2, 3, 1, 2, 0, 0, 2, 4, 0, 1, 4, 2, 0, 4, 0, 4, 2, 2, 3, 0, 3, 3, 0, 2, 1, 4, 1, 2, 2, 4, 3, 2, 4, 2, 0, 2, 2, 2, 1, 4, 4, 2, 4, 4, 4, 2, 5, 4, 4, 4, 2, 0, 4, 3, 4, 2, 0, 4, 2, 0, 5, 1, 4, 2, 4, 4, 5, 1, 0, 0, 2, 4, 2, 0, 2, 0, 0, 2, 3, 4, 0, 2, 4, 0, 2, 3, 2, 0, 0, 3, 0, 0, 4, 1, 1, 2, 4, 2, 2, 3, 1, 0, 1, 2, 4, 0, 2, 0, 0, 2, 4, 1, 2, 0, 3, 1, 1, 2, 5, 0, 4, 4, 2, 2, 4, 0, 2, 2, 2, 4, 2, 1, 2, 4, 4, 2, 4, 0, 2, 2, 0, 2, 2, 2, 2, 0, 2, 3, 3, 0, 1, 3, 4, 2, 4, 5, 2, 4, 2, 4, 4, 4, 3, 0, 2, 4, 2, 4, 2, 2, 4, 4, 3, 0, 1, 0, 1, 2, 0, 4, 4, 0, 4, 2, 4, 2, 2, 4, 4, 3, 2, 2, 4, 2, 0, 2, 2, 2, 2, 4, 3, 2, 4, 1, 2, 2, 4, 3, 2, 1, 3, 0, 0, 3, 4, 2, 2, 2, 2, 2, 1, 3, 3, 2, 1, 4, 3, 4, 2, 4, 4, 4, 1, 3, 1, 0, 1, 2, 2, 2, 2, 4, 2, 0, 4, 0, 0, 1, 4, 4, 4, 3, 4, 2, 4, 2, 2, 4, 2, 4, 5, 2, 2, 4, 1, 3, 2, 4, 3, 0, 2, 1, 0, 0, 4, 3, 2, 0, 4, 1, 2, 3, 2, 0, 2, 0, 3, 4, 2, 1, 3, 2, 4, 4, 2, 4, 0, 4, 1, 4, 3, 0, 4, 0, 2, 3, 3, 4, 2, 2, 2, 0, 1, 2, 2, 2, 2, 0, 4, 0, 2, 2, 4, 1, 2, 1, 4, 2, 2, 2, 4, 2, 2, 4, 4, 2, 3, 4, 2, 2, 4, 2, 2, 2, 2, 3, 0, 2, 1, 2, 2, 4, 4, 5, 4, 0, 4, 2, 2, 4, 4, 0, 2, 2, 2, 1, 4, 1, 4, 2, 4, 0, 2, 2, 2, 0, 4, 4, 2, 4, 1, 3, 4, 1, 4, 2, 1, 1, 2, 4, 4, 4, 2, 4, 4, 4, 2, 2, 3, 3, 4, 0, 4, 2, 2, 2, 0, 2, 2, 3, 2, 2, 1, 2, 1, 2, 3, 2, 4, 2, 3, 1, 2, 5, 5, 5, 4, 2, 4, 2, 3, 0, 5, 0, 2, 3, 4, 2, 4, 2, 4, 4, 4, 2, 1, 2, 0, 4, 2, 0, 0, 2, 2, 4, 0, 3, 3, 4, 4, 2, 0, 3, 3, 2, 2, 4, 4, 2, 2, 0, 2, 2, 0, 2, 3, 2, 2, 4, 4, 3, 2, 1, 0, 3, 3, 4, 2, 4, 2, 5, 0, 2, 2, 2, 2, 4, 4, 0, 3, 2, 1, 1, 4, 4, 2, 1, 3, 4, 2, 4, 4, 2, 1, 2, 4, 2, 0, 2, 4, 2, 2, 4, 0, 0, 4, 2, 0, 2, 2, 4, 1, 4, 2, 2, 0, 1, 2, 4, 1, 4, 2, 2, 2, 2, 4, 2, 4, 3, 3, 2, 4, 3, 4, 4, 2, 2, 1, 4, 2, 4, 2, 4, 1, 4, 2, 5, 4, 4, 1, 2, 2, 2, 2, 5, 2, 2, 0, 2, 4, 2, 5, 3, 3, 4, 0, 4, 5, 4, 4, 0, 3, 2, 4, 1, 2, 4, 4, 2, 2, 0, 1, 2, 4, 0, 4, 2, 3, 2, 2, 3, 1, 3, 2, 2, 2, 1, 4, 4, 1, 0, 2, 4, 3, 2, 0, 2, 2, 4, 1, 4, 2, 2, 0, 3, 4, 2, 2, 4, 2, 2, 0, 2, 2, 1, 2, 5, 3, 4, 0, 4, 1, 4, 4, 1, 3, 2, 2, 2, 2, 2, 4, 2, 2, 2, 4, 4, 4, 2, 4, 1, 0, 0, 2, 4, 4, 0, 2, 0, 4, 1, 2, 2, 2, 3, 2, 0, 4, 0, 1, 1, 1, 0, 3, 0, 3, 4, 1, 0, 3, 4, 2, 0, 2, 2, 1, 2, 0, 0, 4, 1, 4, 4, 0, 3, 3, 3, 5, 2, 4, 2, 4, 1, 0, 3, 0, 4, 2, 2, 4, 4, 4, 0, 0, 3, 2, 0, 2, 2, 2, 5, 4, 1, 2, 4, 1, 2, 4, 4, 0, 5, 2, 2, 4, 4, 2, 4, 2, 4, 4, 1, 0, 2, 0, 2, 2, 3, 4, 3, 4, 0, 2, 0, 2, 1, 1, 2, 0, 4, 4, 1, 2, 4, 4, 0, 2, 2, 2, 1, 4, 1, 2, 4, 2, 4, 2, 2, 2, 0, 0, 1, 4, 2, 4, 2, 1, 2, 4, 4, 4, 2, 2, 2, 0, 4, 0, 4, 3, 2, 3, 3, 0, 4, 2, 4, 4, 3, 2, 4, 2, 0, 4, 1, 5, 3, 0, 4, 4, 4, 2, 0, 1, 5, 1, 0, 4, 2, 1, 4, 4, 1, 1, 0, 4, 4, 4, 4, 4, 0, 1, 2, 4, 0, 3, 4, 5, 1, 0, 2, 2, 2, 0, 2, 4, 0, 0, 1, 2, 4, 0, 2, 3, 4, 5, 1, 4, 0, 2, 4, 0, 2, 4, 3, 3, 2, 1, 0, 4, 2, 2, 0, 4, 1, 0, 0, 2, 2, 2, 3, 3, 3, 2, 1, 1, 0, 5, 1, 4, 1, 2, 0, 4, 3, 2, 4, 4, 4, 1, 4, 1, 4, 4, 4, 4, 4, 2, 4, 0, 3, 2, 2, 2, 2, 3, 3, 2, 0, 0, 4, 4, 4, 4, 3, 2, 3, 2, 1, 1, 2, 4, 2, 2, 2, 2, 4, 4, 0, 3, 1, 4, 4, 3, 2, 2, 4, 4, 4, 4, 2, 4, 4, 2, 4, 3, 2, 2, 0, 0, 4, 3, 3, 4, 2, 4, 4, 0, 3, 1, 1, 0, 4, 3, 4, 3, 2, 2, 5, 2, 0, 0, 3, 0, 0, 2, 1, 0, 2, 2, 5, 4, 3, 2, 2, 2, 3, 1, 4, 4, 3, 2, 2, 4, 4, 1, 1, 4, 4, 4, 0, 0, 3, 3, 5, 4, 0, 1, 4, 2, 1, 2, 3, 0, 0, 1, 2, 4, 0, 0, 2, 1, 0, 2, 4, 4, 4, 4, 2, 4, 2, 1, 2, 2, 1, 2, 4, 2, 2, 1, 1, 4, 3, 4, 4, 2, 1, 2, 3, 1, 5, 0, 3, 5, 4, 3, 4, 2, 2, 2, 4, 2, 2, 2, 2, 0, 0, 3, 2, 3, 1, 1, 0, 0, 0, 3, 3, 2, 4, 4, 1, 3, 4, 2, 1, 4, 2, 2, 4, 4, 0, 1, 2, 3, 2, 2, 2, 3, 0, 4, 2, 2, 2, 2, 2, 2, 4, 4, 1, 4, 4, 1, 5, 5, 2, 0, 3, 4, 1, 4, 1, 0, 0, 4, 1, 4, 4, 5, 3, 2, 2, 3, 4, 3, 4, 1, 2, 1, 4, 1, 5, 2, 0, 2, 2, 4, 5, 1, 4, 0, 2, 2, 2, 2, 0, 2, 4, 0, 3, 4, 4, 2, 2, 4, 0, 4, 3, 1, 1, 4, 3, 2, 4, 4, 4, 2, 4, 4, 2, 4, 2, 3, 1, 2, 2, 4, 5, 1, 4, 4, 4, 4, 2, 2, 2, 0, 0, 2, 1, 4, 1, 1, 0, 4, 0, 1, 4, 5, 2, 2, 3, 0, 4, 4, 4, 4, 1, 4, 1, 0, 4, 3, 4, 2, 1, 3, 1, 3, 2, 4, 3, 2, 2, 1, 0, 0, 2, 4, 4, 2, 4, 1, 0, 2, 1, 5, 0, 4, 4, 2, 2, 2, 2, 1, 2, 2, 2, 2, 0, 4, 2, 4, 1, 2, 2, 2, 2, 2, 1, 4, 1, 0, 0, 0, 2, 1, 3, 2, 4, 4, 2, 5, 3, 4, 4, 4, 4, 2, 4, 4, 3, 2, 2, 2, 2, 0, 1, 4, 1, 1, 1, 2, 0, 2, 4, 4, 0, 1, 2, 0, 2, 2, 4, 1, 1, 3, 4, 4, 1, 5, 4, 2, 0, 2, 2, 4, 3, 1, 2, 3, 4, 1, 5, 2, 0, 4, 2, 2, 0, 4, 3, 3, 2, 2, 2, 2, 1, 2, 4, 2, 3, 2, 1, 4, 4, 2, 5, 4, 2, 1, 0, 4, 4, 0, 2, 2, 2, 4, 4, 4, 4, 4, 2, 4, 1, 4, 2, 2, 2, 4, 2, 4, 0, 1, 4, 1, 4, 2, 4, 4, 2, 2, 1, 2, 4, 2, 2, 2, 0, 2, 4, 2, 4, 4, 4, 4, 4, 4, 2, 4, 4, 4, 2, 2, 5, 2, 1, 3, 4, 4, 0, 1, 2, 2, 2, 4, 4, 4, 2, 4, 0, 4, 2, 2, 4, 1, 0, 2, 2, 3, 4, 2, 2, 2, 4, 3, 2, 2, 1, 3, 2, 4, 4, 2, 5, 4, 4, 4, 1, 1, 2, 0, 4, 3, 4, 1, 4, 2, 4, 2, 4, 2, 0, 5, 5, 0, 4, 2, 1, 1, 2, 5, 1, 2, 4, 2, 5, 2, 1, 4, 4, 4, 2, 0, 0, 3, 2, 4, 4, 5, 4, 1, 4, 2, 2, 2, 1, 2, 4, 4, 2, 1, 4, 2, 4, 3, 3, 2, 2, 0, 4, 2, 2, 2, 5, 1, 4, 3, 3, 2, 1, 0, 2, 4, 2, 2, 0, 3, 0, 4, 4, 1, 3, 4, 0, 0, 4, 0, 5, 4, 4, 1, 3, 4, 0, 0, 2, 0, 4, 4, 4, 5, 4, 2, 4, 2, 4, 5, 0, 0, 2, 2, 0, 3, 2, 0, 4, 0, 3, 4, 2, 2, 0, 2, 0, 0, 4, 2, 2, 1, 4, 4, 3, 4, 2, 3, 4, 1, 1, 2, 1, 2, 0, 1, 2, 2, 5, 2, 2, 0, 3, 2, 1, 4, 3, 2, 0, 4, 4, 4, 0, 2, 2, 2, 4, 4, 1, 4, 5, 4, 1, 2, 2, 1, 1, 2, 1, 2, 4, 4, 1, 0, 0, 2, 0, 2, 1, 0, 2, 4, 0, 2, 3, 4, 1, 4, 4, 2, 4, 1, 4, 3, 0, 2, 4, 0, 2, 4, 4, 2, 2, 2, 4, 2, 2, 4, 1, 1, 4, 4, 4, 0, 4, 2, 3, 4, 2, 2, 4, 4, 4, 4, 5, 3, 4, 1, 4, 4, 0, 1, 1, 2, 3, 5, 3, 2, 2, 4, 2, 2, 4, 0, 3, 2, 4, 1, 3, 3, 3, 3, 2, 1, 0, 0, 4, 0, 4, 2, 4, 2, 2, 0, 4, 2, 0, 4, 2, 2, 3, 4, 3, 2, 3, 0, 2, 0, 2, 0, 2, 4, 2, 1, 2, 5, 2, 2, 4, 4, 4, 2, 4, 4, 4, 2, 2, 2, 4, 5, 4, 2, 4, 2, 0, 2, 4, 0, 2, 2, 2, 2, 2, 4, 4, 2, 0, 0, 0, 2, 1, 2, 2, 2, 1, 2, 4, 0, 4, 4, 4, 3, 4, 2, 2, 2, 2, 2, 4, 2, 2, 4, 4, 0, 4, 4, 1, 0, 0, 2, 2, 4, 1, 2, 5, 4, 4, 2, 2, 4, 2, 0, 0, 1, 4, 4, 3, 1, 4, 4, 1, 2, 3, 4, 2, 4, 2, 2, 2, 4, 1, 0, 4, 5, 0, 4, 1, 4, 2, 2, 2, 4, 1, 0, 1, 4, 2, 4, 4, 0, 0, 0, 1, 2, 1, 0, 2, 2, 3, 1, 2, 1, 4, 4, 3, 2, 3, 0, 1, 2, 0, 4, 4, 2, 0, 1, 0, 2, 2, 1, 4, 3, 2, 2, 2, 4, 0, 0, 0, 1, 1, 3, 0, 2, 2, 1, 5, 4, 4, 4, 0, 2, 4, 1, 1, 3, 1, 3, 4, 0, 4, 2, 4, 2, 1, 4, 2, 2, 0, 2, 3, 2, 3, 4, 4, 2, 0, 2, 4, 1, 4, 4, 2, 1, 4, 0, 2, 1, 4, 5, 2, 4, 4, 2, 2, 4, 4, 4, 3, 2, 4, 2, 4, 4, 2, 4, 2, 2, 2, 1, 2, 5, 2, 4, 4, 0, 4, 4, 2, 3, 4, 5, 4, 1, 2, 0, 4, 4, 4, 1, 4, 4, 4, 4, 2, 0, 2, 5, 2, 2, 3, 2, 4, 4, 1, 0, 4, 3, 2, 2, 3, 4, 3, 3, 2, 0, 3, 3, 2, 1, 4, 3, 2, 3, 0, 2, 2, 2, 2, 2, 4, 4, 1, 2, 4, 0, 2, 4, 2, 2, 4, 2, 4, 1, 2, 2, 4, 4, 2, 4, 3, 2, 4, 2, 4, 3, 0, 5, 4, 0, 4, 2, 2, 4, 0, 4, 2, 2, 2, 2, 4, 4, 4, 2, 1, 0, 4, 2, 2, 2, 2, 0, 1, 2, 2, 2, 3, 4, 4, 2, 4, 4, 4, 3, 2, 2, 5, 1, 1, 1, 4, 2, 4, 0, 5, 1, 5, 0, 2, 3, 4, 2, 4, 2, 2, 1, 4, 2, 2, 4, 1, 2, 5, 4, 5, 3, 0, 4, 1, 4, 1, 2, 2, 1, 3, 2, 4, 3, 3, 2, 1, 0, 1, 4, 2, 3, 2, 2, 4, 1, 2, 2, 0, 0, 2, 4, 2, 2, 3, 4, 2, 3, 0, 2, 4, 1, 2, 4, 2, 4, 2, 2, 2, 4, 4, 3, 2, 4, 2, 4, 3, 1, 1, 2, 4, 4, 0, 1, 4, 1, 5, 2, 1, 3, 4, 0, 0, 4, 1, 2, 2, 3, 1, 4, 1, 1, 4, 1, 4, 1, 4, 2, 4, 2, 2, 2, 4, 1, 0, 4, 4, 1, 2, 3, 4, 4, 3, 2, 4, 4, 1, 0, 4, 2, 0, 2, 3, 4, 4, 4, 2, 4, 3, 1, 2, 2, 2, 4, 2, 4, 2, 4, 4, 4, 3, 2, 4, 2, 4, 4, 3, 4, 4, 2, 2, 2, 0, 2, 3, 2, 4, 5, 4, 4, 2, 0, 1, 4, 3, 0, 2, 5, 4, 4, 4, 1, 2, 1, 2, 4, 2, 2, 2, 2, 4, 3, 4, 2, 2, 1, 4, 5, 4, 2, 2, 4, 2, 4, 0, 3, 2, 2, 2, 1, 1, 0, 2, 2, 0, 4, 2, 1, 2, 0, 1, 2, 2, 4, 0, 4, 2, 4, 2, 3, 2, 2, 2, 0, 4, 0, 4, 0, 4, 1, 0, 4, 1, 4, 0, 3, 3, 2, 2, 1, 1, 1, 4, 0, 0, 1, 0, 1, 2, 3, 4, 2, 4, 3, 3, 2, 2, 4, 4, 3, 1, 4, 0, 0, 0, 1, 2, 4, 4, 2, 0, 2, 0, 3, 2, 5, 2, 2, 1, 2, 2, 4, 3, 2, 4, 1, 2, 4, 4, 2, 4, 5, 1, 0, 1, 2, 2, 2, 3, 4, 4, 3, 2, 2, 1, 4, 4, 4, 2, 0, 2, 1, 2, 4, 3, 1, 4, 4, 3, 2, 0, 2, 2, 0, 2, 3, 5, 4, 4, 2, 0, 4, 3, 2, 2, 2, 0, 2, 4, 0, 2, 1, 2, 0, 4, 4, 2, 2, 4, 2, 4, 2, 2, 0, 2, 0, 2, 2, 1, 0, 0, 4, 1, 4, 2, 4, 0, 3, 3, 4, 4, 2, 2, 3, 2, 4, 0, 1, 0, 0, 4, 2, 0, 0, 1, 4, 5, 4, 4, 2, 3, 2, 5, 1, 0, 4, 1, 4, 2, 2, 1, 4, 4, 2, 4, 4, 0, 4, 4, 2, 2, 5, 0, 4, 2, 1, 1, 1, 0, 2, 0, 4, 3, 2, 4, 4, 4, 0, 2, 0, 1, 2, 1, 2, 0, 0, 0, 0, 4, 2, 1, 0, 2, 4, 4, 5, 2, 4, 1, 1, 2, 0, 5, 4, 4, 2, 4, 2, 2, 4, 2, 2, 4, 3, 2, 2, 2, 2, 4, 4, 2, 4, 4, 3, 4, 4, 0, 2, 0, 4, 2, 0, 2, 4, 2, 0, 4, 3, 2, 0, 2, 3, 4, 1, 3, 0, 0, 2, 2, 3, 3, 0, 0, 4, 1, 3, 4, 4, 2, 1, 2, 0, 0, 0, 4, 0, 4, 5, 4, 4, 4, 2, 2, 0, 1, 2, 2, 2, 2, 2, 2, 4, 2, 4, 4, 4, 2, 0, 1, 3, 4, 3, 0, 4, 4, 0, 0, 1, 4, 1, 2, 1, 4, 3, 2, 1, 4, 2, 0, 4, 4, 2, 3, 2, 4, 4, 1, 4, 2, 4, 4, 0, 3, 4, 2, 2, 0, 4, 2, 2, 4, 2, 4, 2, 0, 4, 4, 3, 2, 0, 5, 2, 4, 2, 0, 2, 4, 4, 4, 2, 4, 0, 4, 4, 4, 2, 2, 1, 3, 4, 2, 2, 2, 2, 5, 4, 4, 0, 1, 2, 0, 1, 2, 4, 0, 4, 1, 2, 2, 1, 4, 2, 4, 2, 5, 2, 2, 3, 2, 3, 0, 2, 2, 4, 4, 1, 2, 2, 3, 1, 4, 2, 1, 2, 2, 4, 5, 2, 2, 0, 2, 0, 4, 2, 3, 4, 4, 4, 4, 2, 0, 4, 1, 4, 2, 4, 1, 2, 4, 4, 2, 2, 1, 2, 2, 0, 2, 4, 2, 0, 2, 0, 2, 4, 1, 4, 0, 3, 3, 2, 2, 2, 0, 3, 2, 4, 0, 3, 4, 1, 4, 0, 2, 1, 4, 4, 4, 2, 4, 2, 2, 1, 2, 2, 4, 2, 2, 4, 2, 3, 2, 3, 4, 2, 2, 2, 2, 2, 3, 2, 2, 1, 2, 4, 5, 4, 2, 2, 4, 0, 3, 2, 1, 2, 4, 4, 2, 3, 2, 3, 4, 2, 2, 2, 4, 2, 2, 2, 4, 5, 2, 4, 2, 4, 3, 1, 4, 2, 1, 2, 0, 2, 4, 4, 2, 4, 0, 4, 1, 4, 2, 4, 0, 4, 4, 4, 1, 4, 2, 1, 4, 5, 0, 0, 2, 4, 2, 2, 0, 4, 2, 4, 1, 2, 2, 4, 5, 0, 4, 4, 3, 4, 0, 4, 2, 2, 2, 4, 3, 2, 4, 4, 0, 2, 0, 0, 2, 2, 4, 0, 4, 4, 0, 2, 2, 2, 4, 3, 2, 2, 4, 4, 4, 3, 4, 1, 4, 2, 0, 2, 4, 1, 0, 2, 2, 4, 1, 2, 2, 3, 2, 5, 1, 0, 4, 4, 2, 0, 4, 4, 3, 4, 2, 5, 3, 4, 4, 4, 4, 4, 4, 1, 0, 0, 2, 2, 2, 2, 4, 4, 1, 2, 1, 2, 2, 4, 4, 5, 2, 2, 2, 3, 5, 4, 1, 1, 0, 2, 0, 2, 4, 4, 1, 4, 0, 0, 4, 0, 4, 0, 2, 2, 2, 2, 0, 3, 2, 2, 1, 5, 2, 2, 2, 2, 1, 1, 2, 1, 2, 2, 4, 3, 0, 4, 2, 2, 4, 4, 4, 4, 3, 0, 0, 2, 1, 4, 3, 2, 4, 4, 4, 0, 2, 4, 2, 4, 0, 3, 5, 0, 4, 1, 2, 4, 4, 3, 2, 2, 4, 0, 2, 0, 2, 0, 4, 2, 2, 1, 4, 0, 2, 4, 2, 2, 4, 1, 0, 4, 5, 4, 5, 2, 4, 4, 2, 4, 1, 2, 4, 0, 2, 5, 3, 2, 4, 2, 4, 4, 4, 4, 0, 4, 1, 3, 2, 2, 2, 2, 2, 4, 0, 0, 2, 4, 0, 4, 4, 4, 2, 3, 2, 2, 4, 4, 2, 2, 5, 4, 2, 2, 0, 2, 2, 1, 2, 0, 2, 2, 4, 4, 1, 4, 4, 4, 1, 0, 1, 3, 4, 0, 2, 4, 4, 0, 2, 0, 4, 4, 0, 2, 2, 2, 4, 2, 4, 2, 3, 4, 3, 2, 2, 1, 2, 1, 2, 3, 2, 0, 4, 4, 4, 3, 0, 4, 4, 3, 1, 1, 4, 4, 1, 2, 4, 4, 2, 5, 0, 4, 0, 2, 0, 4, 1, 2, 4, 2, 1, 0, 2, 1, 0, 1, 3, 1, 4, 2, 1, 2, 0, 0, 2, 1, 1, 2, 4, 2, 3, 1, 4, 4, 4, 2, 3, 2, 2, 1, 4, 3, 3, 1, 2, 4, 4, 2, 4, 0, 2, 3, 2, 1, 4, 4, 3, 4, 2, 3, 4, 2, 2, 4, 4, 2, 3, 2, 1, 0, 4, 4, 4, 2, 4, 4, 2, 4, 4, 4, 4, 0, 4, 2, 2, 2, 1, 4, 4, 0, 4, 5, 3, 4, 1, 1, 4, 1, 1, 1, 4, 5, 0, 4, 4, 4, 4, 4, 4, 4, 4, 2, 2, 4, 4, 4, 0, 3, 0, 4, 4, 1, 0, 4, 2, 4, 4, 4, 4, 4, 4, 4, 2, 2, 2, 0, 2, 4, 3, 2, 4, 2, 4, 0, 4, 2, 3, 2, 4, 2, 4, 2, 2, 2, 2, 2, 3, 2, 1, 1, 1, 4, 2, 0, 4, 2, 4, 0, 2, 4, 0, 3, 4, 4, 1, 1, 4, 5, 3, 4, 2, 1, 0, 2, 4, 4, 2, 1, 2, 3, 2, 2, 4, 2, 1, 2, 0, 2, 1, 2, 4, 5, 2, 2, 5, 4, 4, 4, 2, 4, 2, 2, 4, 2, 3, 2, 4, 2, 0, 1, 2, 0, 2, 3, 2, 0, 4, 0, 1, 4, 2, 1, 2, 0, 4, 2, 2, 2, 2, 0, 4, 2, 1, 2, 0, 4, 0, 1, 0, 2, 2, 0, 4, 2, 5, 0, 4, 4, 0, 2, 4, 3, 2, 2, 0, 2, 0, 2, 2, 4, 2, 2, 2, 1, 4, 0, 1, 1, 4, 4, 0, 2, 2, 4, 2, 4, 0, 0, 4, 2, 2, 4, 1, 2, 4, 4, 3, 4, 1, 1, 5, 3, 1, 2, 3, 0, 4, 1, 2, 0, 4, 4, 3, 2, 1, 2, 4, 1, 4, 2, 0, 2, 2, 0, 2, 2, 2, 2, 2, 4, 4, 4, 3, 1, 4, 2, 3, 5, 2, 4, 4, 2, 1, 2, 0, 0, 3, 0, 2, 0, 1, 0, 4, 5, 2, 1, 4, 2, 1, 0, 4, 5, 2, 1, 2, 4, 0, 1, 2, 4, 4, 1, 2, 2, 0, 4, 2, 2, 0, 4, 4, 2, 2, 1, 4, 2, 2, 1, 4, 2, 0, 5, 4, 1, 1, 3, 2, 4, 2, 2, 0, 4, 2, 0, 1, 3, 2, 4, 2, 4, 4, 2, 1, 3, 0, 0, 0, 2, 2, 4, 0, 2, 2, 2, 1, 0, 4, 2, 2, 4, 2, 4, 0, 2, 4, 4, 2, 2, 3, 4, 4, 2, 2, 2, 4, 4, 4, 2, 2, 5, 5, 4, 0, 2, 0, 5, 4, 0, 2, 2, 2, 4, 2, 2, 4, 1, 1, 0, 2, 0, 2, 2, 2, 0, 5, 1, 2, 4, 3, 4, 4, 4, 0, 4, 0, 3, 4, 1, 0, 4, 4, 4, 1, 4, 4, 2, 2, 0, 2, 5, 0, 3, 2, 0, 4, 2, 2, 4, 2, 3, 1, 4, 2, 2, 2, 2, 5, 3, 4, 4, 2, 0, 4, 2, 3, 2, 4, 2, 4, 0, 4, 2, 2, 2, 1, 2, 4, 3, 2, 2, 4, 2, 4, 2, 2, 2, 3, 3, 2, 1, 5, 3, 0, 3, 0, 4, 2, 2, 3, 0, 2, 4, 1, 4, 2, 0, 3, 1, 4, 2, 2, 2, 1, 2, 1, 2, 2, 2, 4, 1, 4, 4, 1, 4, 2, 4, 3, 4, 0, 2, 5, 3, 2, 4, 4, 4, 0, 2, 2, 2, 5, 0, 3, 5, 4, 4, 5, 4, 4, 4, 4, 0, 1, 3, 4, 3, 4, 3, 4, 4, 2, 4, 5, 1, 2, 4, 0, 0, 4, 2, 2, 2, 2, 4, 4, 0, 2, 1, 2, 0, 3, 2, 0, 4, 4, 4, 3, 2, 4, 4, 4, 4, 1, 2, 4, 3, 2, 4, 4, 4, 0, 5, 2, 1, 2, 2, 2, 4, 4, 2, 1, 2, 2, 4, 0, 2, 4, 4, 4, 5, 0, 2, 4, 4, 2, 0, 4, 4, 3, 4, 1, 1, 4, 0, 5, 2, 4, 3, 4, 0, 4, 3, 4, 4, 4, 2, 2, 2, 4, 2, 4, 4, 4, 0, 5, 2, 5, 2, 2, 2, 4, 5, 0, 2, 2, 4, 4, 4, 2, 2, 2, 0, 4, 2, 0, 2, 4, 2, 4, 4, 2, 4, 0, 0, 4, 0, 2, 2, 2, 4, 0, 4, 2, 3, 2, 4, 3, 4, 4, 4, 2, 2, 0, 2, 1, 4, 5, 4, 4, 0, 4, 0, 2, 2, 2, 4, 0, 4, 4, 0, 4, 0, 4, 2, 1, 4, 2, 0, 1, 0, 4, 4, 2, 5, 4, 2, 3, 4, 2, 2, 4, 1, 2, 2, 3, 2, 0, 4, 4, 4, 2, 0, 4, 4, 1, 0, 3, 4, 4, 2, 4, 4, 1, 2, 3, 2, 2, 4, 4, 4, 4, 2, 4, 2, 3, 2, 4, 2, 3, 0, 2, 1, 0, 4, 4, 4, 2, 2, 4, 2, 4, 4, 0, 1, 4, 3, 2, 2, 4, 4, 4, 0, 2, 0, 2, 2, 2, 2, 4, 0, 4, 4, 1, 4, 2, 1, 4, 2, 4, 2, 4, 4, 1, 1, 4, 2, 0, 4, 4, 2, 1, 4, 3, 2, 4, 4, 2, 1, 2, 1, 4, 4, 1, 2, 2, 4, 2, 2, 1, 2, 2, 2, 4, 2, 2, 2, 0, 1, 0, 3, 4, 4, 4, 3, 1, 3, 4, 0, 4, 3, 4, 2, 0, 2, 1, 2, 4, 2, 0, 5, 4, 4, 2, 4, 3, 2, 2, 2, 1, 0, 1, 3, 3, 0, 4, 4, 2, 2, 2, 4, 1, 4, 2, 2, 2, 4, 5, 0, 0, 2, 0, 2, 2, 2, 0, 3, 0, 3, 4, 1, 2, 2, 4, 0, 2, 4, 2, 1, 2, 4, 4, 5, 1, 1, 4, 2, 4, 4, 3, 2, 4, 3, 2, 2, 3, 4, 3, 0, 3, 0, 4, 5, 1, 3, 4, 4, 0, 2, 0, 1, 4, 4, 2, 1, 4, 3, 0, 4, 1, 5, 4, 0, 2, 1, 4, 2, 4, 2, 2, 4, 2, 0, 1, 0, 1, 4, 2, 2, 2, 1, 0, 1, 0, 0, 2, 2, 2, 2, 4, 4, 4, 4, 3, 0, 1, 2, 2, 4, 4, 1, 2, 2, 0, 2, 1, 5, 1, 2, 4, 2, 4, 2, 2, 4, 5, 4, 2, 0, 2, 2, 4, 3, 3, 5, 4, 2, 2, 2, 3, 2, 2, 4, 2, 4, 4, 3, 0, 1, 0, 4, 4, 4, 2, 1, 3, 2, 3, 4, 4, 2, 4, 4, 2, 4, 0, 1, 2, 4, 2, 2, 0, 2, 3, 1, 2, 1, 2, 0, 3, 0, 0, 3, 1, 4, 4, 0, 1, 2, 5, 2, 3, 2, 0, 2, 4, 2, 2, 4, 0, 4, 3, 4, 4, 3, 2, 4, 4, 4, 4, 0, 0, 2, 4, 3, 4, 4, 1, 2, 2, 2, 4, 1, 0, 0, 3, 2, 2, 2, 2, 4, 2, 0, 2, 2, 3, 2, 3, 2, 2, 0, 4, 2, 0, 2, 4, 1, 4, 2, 1, 5, 4, 2, 2, 1, 4, 4, 3, 0, 2, 2, 3, 4, 0, 3, 2, 4, 1, 4, 2, 0, 2, 2, 1, 2, 4, 2, 2, 2, 4, 1, 0, 2, 2, 2, 2, 0, 1, 4, 0, 0, 2, 1, 0, 1, 1, 4, 4, 3, 2, 2, 2, 3, 0, 4, 0, 4, 2, 4, 0, 0, 4, 2, 4, 4, 2, 0, 0, 1, 3, 2, 4, 1, 2, 2, 4, 4, 2, 4, 2, 1, 2, 4, 2, 5, 4, 4, 2, 4, 3, 4, 0, 0, 1, 1, 2, 1, 4, 4, 3, 5, 4, 4, 1, 0, 2, 0, 4, 4, 4, 1, 0, 3, 2, 0, 2, 3, 4, 0, 1, 2, 0, 2, 3, 2, 0, 3, 2, 4, 4, 4, 0, 2, 5, 0, 4, 2, 3, 3, 1, 3, 3, 2, 2, 2, 0, 4, 1, 3, 2, 2, 0, 2, 4, 1, 2, 0, 1, 2, 2, 2, 2, 0, 2, 2, 4, 1, 4, 4, 2, 4, 2, 2, 4, 1, 2, 3, 2, 4, 1, 2, 0, 3, 4, 4, 3, 4, 2, 3, 5, 3, 2, 4, 4, 4, 4, 2, 2, 4, 2, 2, 0, 4, 4, 2, 2, 2, 2, 4, 0, 3, 0, 4, 1, 1, 0, 4, 0, 2, 3, 2, 2, 0, 4, 2, 0, 2, 2, 3, 2, 0, 4, 3, 0, 2, 2, 2, 1, 2, 5, 4, 2, 2, 4, 4, 4, 2, 4, 2, 0, 4, 0, 1, 0, 1, 2, 2, 4, 4, 2, 4, 5, 4, 2, 4, 4, 0, 2, 4, 3, 3, 2, 2, 4, 4, 0, 4, 4, 3, 4, 4, 4, 2, 3, 0, 0, 0, 2, 2, 4, 3, 4, 3, 1, 0, 2, 2, 2, 0, 2, 4, 2, 2, 3, 4, 2, 2, 2, 1, 4, 2, 4, 4, 4, 4, 4, 1, 4, 3, 2, 3, 1, 5, 1, 4, 2, 2, 3, 4, 4, 2, 2, 2, 0, 2, 2, 3, 4, 2, 2, 4, 0, 0, 3, 2, 4, 2, 2, 2, 4, 1, 2, 4, 2, 0, 2, 3, 2, 4, 4, 1, 3, 2, 4, 0, 0, 2, 2, 2, 4, 2, 4, 2, 1, 4, 2, 0, 4, 2, 1, 4, 4, 0, 2, 2, 2, 2, 2, 5, 5, 1, 4, 3, 2, 4, 0, 0, 2, 4, 2, 1, 2, 0, 0, 2, 0, 2, 2, 4, 0, 0, 4, 2, 2, 2, 4, 4, 1, 3, 1, 1, 0, 1, 2, 2, 0, 3, 2, 2, 4, 4, 4, 0, 4, 1, 2, 2, 2, 1, 4, 2, 2, 4, 2, 2, 0, 2, 2, 4, 4, 0, 2, 2, 2, 3, 2, 4, 2, 1, 4, 4, 4, 2, 2, 2, 3, 1, 3, 3, 0, 2, 2, 2, 0, 2, 4, 1, 0, 2, 2, 2, 4, 4, 5, 2, 2, 5, 2, 4, 0, 2, 3, 4, 2, 2, 1, 3]\n"
     ]
    }
   ],
   "source": [
    "y_predd = [np.argmax(y_pred[x]) for x in range (0, len(y_pred))]\n",
    "print(y_predd)"
   ]
  },
  {
   "cell_type": "code",
   "execution_count": 35,
   "id": "393572b0-59e9-409a-a2b4-7e665be55214",
   "metadata": {},
   "outputs": [],
   "source": [
    "accuracy = accuracy_score (y_test, y_predd)"
   ]
  },
  {
   "cell_type": "code",
   "execution_count": 36,
   "id": "62d33417-584b-44c0-8b27-37dcab68fcba",
   "metadata": {},
   "outputs": [
    {
     "data": {
      "text/plain": [
       "0.9564705882352941"
      ]
     },
     "execution_count": 36,
     "metadata": {},
     "output_type": "execute_result"
    }
   ],
   "source": [
    "accuracy"
   ]
  },
  {
   "cell_type": "code",
   "execution_count": 37,
   "id": "38f63695-7fcf-4dd3-af1c-bc438e912a14",
   "metadata": {},
   "outputs": [
    {
     "data": {
      "text/plain": [
       "7850     3\n",
       "15215    5\n",
       "1331     3\n",
       "7326     4\n",
       "10994    2\n",
       "        ..\n",
       "5196     4\n",
       "383      2\n",
       "12350    2\n",
       "15534    1\n",
       "13449    3\n",
       "Name: N_label, Length: 8500, dtype: int32"
      ]
     },
     "execution_count": 37,
     "metadata": {},
     "output_type": "execute_result"
    }
   ],
   "source": [
    "y_test"
   ]
  },
  {
   "cell_type": "code",
   "execution_count": 38,
   "id": "8208b2e1-3219-4661-8f98-d596ee8c6154",
   "metadata": {},
   "outputs": [],
   "source": [
    "from sklearn.metrics import confusion_matrix, ConfusionMatrixDisplay\n",
    "cm = confusion_matrix (y_test, y_predd)"
   ]
  },
  {
   "cell_type": "code",
   "execution_count": 39,
   "id": "05590120-7995-496d-af83-36d621734516",
   "metadata": {},
   "outputs": [
    {
     "data": {
      "image/png": "[encoded data removed]",
      "text/plain": [
       "<Figure size 640x480 with 2 Axes>"
      ]
     },
     "metadata": {},
     "output_type": "display_data"
    }
   ],
   "source": [
    "class_names = ['anger', 'fear', 'joy', 'love', 'sadness', 'surprise']\n",
    "disp = ConfusionMatrixDisplay(confusion_matrix=cm, display_labels=class_names)\n",
    "disp.plot(cmap=plt.cm.Blues)\n",
    "plt.show()"
   ]
  },
  {
   "cell_type": "code",
   "execution_count": 40,
   "id": "ad6606ec-4231-4055-8593-4ae4f5a602ab",
   "metadata": {},
   "outputs": [
    {
     "data": {
      "text/plain": [
       "(1, 5000)"
      ]
     },
     "execution_count": 40,
     "metadata": {},
     "output_type": "execute_result"
    }
   ],
   "source": [
    "new_text = \"this looks so good. i look forward to more. and i will get bit by God's grace\"\n",
    "ttt = preprocess(new_text)\n",
    "\n",
    "new_cv = cv.transform([ttt]).toarray()\n",
    "new_cv.shape"
   ]
  },
  {
   "cell_type": "code",
   "execution_count": 41,
   "id": "47997a53-fa03-4ec9-a1e1-6be20bc6c5aa",
   "metadata": {},
   "outputs": [
    {
     "name": "stdout",
     "output_type": "stream",
     "text": [
      "\u001b[1m1/1\u001b[0m \u001b[32m━━━━━━━━━━━━━━━━━━━━\u001b[0m\u001b[37m\u001b[0m \u001b[1m0s\u001b[0m 105ms/step\n"
     ]
    },
    {
     "data": {
      "text/plain": [
       "array([[1.8761428e-05, 3.3098116e-04, 9.9935693e-01, 8.1062271e-06,\n",
       "        8.8276414e-05, 1.9703206e-04]], dtype=float32)"
      ]
     },
     "execution_count": 41,
     "metadata": {},
     "output_type": "execute_result"
    }
   ],
   "source": [
    "now_pred = model.predict(new_cv)\n",
    "now_pred"
   ]
  },
  {
   "cell_type": "code",
   "execution_count": 42,
   "id": "0e038592-a416-4282-b551-c1587250e2e6",
   "metadata": {},
   "outputs": [
    {
     "data": {
      "text/plain": [
       "2"
      ]
     },
     "execution_count": 42,
     "metadata": {},
     "output_type": "execute_result"
    }
   ],
   "source": [
    "np.argmax(now_pred)"
   ]
  },
  {
   "cell_type": "code",
   "execution_count": 43,
   "id": "d25ac705-13f2-440f-880b-9276b8c615dc",
   "metadata": {},
   "outputs": [
    {
     "name": "stderr",
     "output_type": "stream",
     "text": [
      "WARNING:absl:You are saving your model as an HDF5 file via `model.save()` or `keras.saving.save_model(model)`. This file format is considered legacy. We recommend using instead the native Keras format, e.g. `model.save('my_model.keras')` or `keras.saving.save_model(model, 'my_model.keras')`. \n"
     ]
    }
   ],
   "source": [
    "model.save('Text_Emotion.h5')"
   ]
  },
  {
   "cell_type": "code",
   "execution_count": null,
   "id": "4b29cb1f-1286-46a9-a272-4a67dc4ad8e1",
   "metadata": {},
   "outputs": [],
   "source": []
  }
 ],
 "metadata": {
  "kernelspec": {
   "display_name": "Python 3 (ipykernel)",
   "language": "python",
   "name": "python3"
  },
  "language_info": {
   "codemirror_mode": {
    "name": "ipython",
    "version": 3
   },
   "file_extension": ".py",
   "mimetype": "text/x-python",
   "name": "python",
   "nbconvert_exporter": "python",
   "pygments_lexer": "ipython3",
   "version": "3.11.7"
  }
 },
 "nbformat": 4,
 "nbformat_minor": 5
}
